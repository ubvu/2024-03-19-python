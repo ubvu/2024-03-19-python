{
 "cells": [
  {
   "cell_type": "code",
   "execution_count": 1,
   "id": "ae8f0fae-92f4-432d-a8f5-1aa57ae08b1d",
   "metadata": {},
   "outputs": [],
   "source": [
    "import pandas as pd"
   ]
  },
  {
   "cell_type": "code",
   "execution_count": 2,
   "id": "54581c23-d7c1-4f9c-b97d-0f25c739ff0f",
   "metadata": {},
   "outputs": [],
   "source": [
    "data = pd.read_csv('../data/gapminder_gdp_europe.csv', index_col='country')"
   ]
  },
  {
   "cell_type": "markdown",
   "id": "ca3ce9ad-7145-4b98-ba9d-5a49af8f9aa2",
   "metadata": {},
   "source": [
    "# Select values"
   ]
  },
  {
   "cell_type": "code",
   "execution_count": 4,
   "id": "46454982-32ad-4def-8b2b-bc6c39824903",
   "metadata": {},
   "outputs": [],
   "source": [
    "# selecting values by index/position\n",
    "# iloc"
   ]
  },
  {
   "cell_type": "code",
   "execution_count": null,
   "id": "8299928c-bea6-4446-85d7-725a41ffb60a",
   "metadata": {},
   "outputs": [],
   "source": [
    "data.iloc[0, 0]"
   ]
  }
 ],
 "metadata": {
  "kernelspec": {
   "display_name": "Python 3 (ipykernel)",
   "language": "python",
   "name": "python3"
  },
  "language_info": {
   "codemirror_mode": {
    "name": "ipython",
    "version": 3
   },
   "file_extension": ".py",
   "mimetype": "text/x-python",
   "name": "python",
   "nbconvert_exporter": "python",
   "pygments_lexer": "ipython3",
   "version": "3.11.3"
  }
 },
 "nbformat": 4,
 "nbformat_minor": 5
}
