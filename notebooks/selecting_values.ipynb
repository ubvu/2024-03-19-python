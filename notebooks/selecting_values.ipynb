{
 "cells": [
  {
   "cell_type": "code",
   "execution_count": 1,
   "id": "ae8f0fae-92f4-432d-a8f5-1aa57ae08b1d",
   "metadata": {},
   "outputs": [],
   "source": [
    "import pandas as pd"
   ]
  },
  {
   "cell_type": "code",
   "execution_count": 2,
   "id": "54581c23-d7c1-4f9c-b97d-0f25c739ff0f",
   "metadata": {},
   "outputs": [],
   "source": [
    "data = pd.read_csv('../data/gapminder_gdp_europe.csv', index_col='country')"
   ]
  },
  {
   "cell_type": "markdown",
   "id": "ca3ce9ad-7145-4b98-ba9d-5a49af8f9aa2",
   "metadata": {},
   "source": [
    "# Select values"
   ]
  },
  {
   "cell_type": "code",
   "execution_count": 4,
   "id": "46454982-32ad-4def-8b2b-bc6c39824903",
   "metadata": {},
   "outputs": [],
   "source": [
    "# selecting values by index/position\n",
    "# iloc"
   ]
  },
  {
   "cell_type": "code",
   "execution_count": 7,
   "id": "8299928c-bea6-4446-85d7-725a41ffb60a",
   "metadata": {},
   "outputs": [
    {
     "data": {
      "text/plain": [
       "8842.59803"
      ]
     },
     "execution_count": 7,
     "metadata": {},
     "output_type": "execute_result"
    }
   ],
   "source": [
    "data.iloc[1, 1]"
   ]
  },
  {
   "cell_type": "code",
   "execution_count": 8,
   "id": "556159c5-f58c-425b-bc0f-a8ee9693443c",
   "metadata": {},
   "outputs": [],
   "source": [
    "name = 'Max'"
   ]
  },
  {
   "cell_type": "code",
   "execution_count": 9,
   "id": "5541f0c2-e4e0-440d-bb51-54469b611f46",
   "metadata": {},
   "outputs": [
    {
     "data": {
      "text/plain": [
       "'M'"
      ]
     },
     "execution_count": 9,
     "metadata": {},
     "output_type": "execute_result"
    }
   ],
   "source": [
    "name[0]"
   ]
  },
  {
   "cell_type": "markdown",
   "id": "ba7ca151-aa31-4e74-b857-57ce644e363d",
   "metadata": {},
   "source": [
    "## Slicing"
   ]
  },
  {
   "cell_type": "code",
   "execution_count": 12,
   "id": "986e4721-3f0e-4b22-b61f-d3161507876d",
   "metadata": {},
   "outputs": [
    {
     "data": {
      "text/html": [
       "<div>\n",
       "<style scoped>\n",
       "    .dataframe tbody tr th:only-of-type {\n",
       "        vertical-align: middle;\n",
       "    }\n",
       "\n",
       "    .dataframe tbody tr th {\n",
       "        vertical-align: top;\n",
       "    }\n",
       "\n",
       "    .dataframe thead th {\n",
       "        text-align: right;\n",
       "    }\n",
       "</style>\n",
       "<table border=\"1\" class=\"dataframe\">\n",
       "  <thead>\n",
       "    <tr style=\"text-align: right;\">\n",
       "      <th></th>\n",
       "      <th>gdpPercap_1952</th>\n",
       "      <th>gdpPercap_1957</th>\n",
       "    </tr>\n",
       "    <tr>\n",
       "      <th>country</th>\n",
       "      <th></th>\n",
       "      <th></th>\n",
       "    </tr>\n",
       "  </thead>\n",
       "  <tbody>\n",
       "    <tr>\n",
       "      <th>Albania</th>\n",
       "      <td>1601.056136</td>\n",
       "      <td>1942.284244</td>\n",
       "    </tr>\n",
       "    <tr>\n",
       "      <th>Austria</th>\n",
       "      <td>6137.076492</td>\n",
       "      <td>8842.598030</td>\n",
       "    </tr>\n",
       "  </tbody>\n",
       "</table>\n",
       "</div>"
      ],
      "text/plain": [
       "         gdpPercap_1952  gdpPercap_1957\n",
       "country                                \n",
       "Albania     1601.056136     1942.284244\n",
       "Austria     6137.076492     8842.598030"
      ]
     },
     "execution_count": 12,
     "metadata": {},
     "output_type": "execute_result"
    }
   ],
   "source": [
    "data.iloc[0:2, 0:2]"
   ]
  },
  {
   "cell_type": "code",
   "execution_count": 13,
   "id": "46bcebe6-dbb3-4155-8b83-23d3609cb4a3",
   "metadata": {},
   "outputs": [
    {
     "data": {
      "text/plain": [
       "gdpPercap_1952    1601.056136\n",
       "gdpPercap_1962    2312.888958\n",
       "Name: Albania, dtype: float64"
      ]
     },
     "execution_count": 13,
     "metadata": {},
     "output_type": "execute_result"
    }
   ],
   "source": [
    "data.iloc[0, [0,2]]"
   ]
  },
  {
   "cell_type": "code",
   "execution_count": null,
   "id": "457508ab-5676-4587-8ce0-b759b8bd7e70",
   "metadata": {},
   "outputs": [],
   "source": [
    "# 0:2"
   ]
  },
  {
   "cell_type": "code",
   "execution_count": null,
   "id": "8809162d-d854-4841-800b-c2ab14fe2ba3",
   "metadata": {},
   "outputs": [],
   "source": [
    "# selecting values by label\n",
    "# loc"
   ]
  },
  {
   "cell_type": "code",
   "execution_count": 15,
   "id": "adaa9c11-8168-4a69-842d-29b4896793a4",
   "metadata": {},
   "outputs": [
    {
     "data": {
      "text/plain": [
       "1601.056136"
      ]
     },
     "execution_count": 15,
     "metadata": {},
     "output_type": "execute_result"
    }
   ],
   "source": [
    "data.loc['Albania', 'gdpPercap_1952']"
   ]
  },
  {
   "cell_type": "code",
   "execution_count": 16,
   "id": "3ccf9449-0e4c-48c0-9fad-ee4b4475a61e",
   "metadata": {},
   "outputs": [
    {
     "data": {
      "text/plain": [
       "gdpPercap_1952    1601.056136\n",
       "gdpPercap_1957    1942.284244\n",
       "Name: Albania, dtype: float64"
      ]
     },
     "execution_count": 16,
     "metadata": {},
     "output_type": "execute_result"
    }
   ],
   "source": [
    "data.loc['Albania', 'gdpPercap_1952':'gdpPercap_1957']"
   ]
  },
  {
   "cell_type": "code",
   "execution_count": null,
   "id": "7cebf24d-62d1-4c65-886e-8a5841d1cbbd",
   "metadata": {},
   "outputs": [],
   "source": []
  }
 ],
 "metadata": {
  "kernelspec": {
   "display_name": "Python 3 (ipykernel)",
   "language": "python",
   "name": "python3"
  },
  "language_info": {
   "codemirror_mode": {
    "name": "ipython",
    "version": 3
   },
   "file_extension": ".py",
   "mimetype": "text/x-python",
   "name": "python",
   "nbconvert_exporter": "python",
   "pygments_lexer": "ipython3",
   "version": "3.11.3"
  }
 },
 "nbformat": 4,
 "nbformat_minor": 5
}
