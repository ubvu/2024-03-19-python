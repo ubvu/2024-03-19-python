{
 "cells": [
  {
   "cell_type": "code",
   "execution_count": 1,
   "id": "86984f32",
   "metadata": {},
   "outputs": [],
   "source": [
    "import pandas as pd"
   ]
  },
  {
   "cell_type": "code",
   "execution_count": 20,
   "id": "3acbe683",
   "metadata": {},
   "outputs": [
    {
     "name": "stdout",
     "output_type": "stream",
     "text": [
      "../data/gapminder_gdp_africa.csv \n",
      " gdpPercap_1952    298.846212\n",
      "gdpPercap_1957    335.997115\n",
      "gdpPercap_1962    355.203227\n",
      "gdpPercap_1967    412.977514\n",
      "gdpPercap_1972    464.099504\n",
      "dtype: float64\n",
      "../data/gapminder_gdp_asia.csv \n",
      " gdpPercap_1952    331.0\n",
      "gdpPercap_1957    350.0\n",
      "gdpPercap_1962    388.0\n",
      "gdpPercap_1967    349.0\n",
      "gdpPercap_1972    357.0\n",
      "dtype: float64\n"
     ]
    }
   ],
   "source": [
    "for filename in [\"../data/gapminder_gdp_africa.csv\", \"../data/gapminder_gdp_asia.csv\"]:\n",
    "    data = pd.read_csv(filename, index_col = \"country\")\n",
    "    Dmin = data.min()\n",
    "    DminFirst = Dmin.head()\n",
    "    print(filename, \"\\n\",DminFirst)"
   ]
  },
  {
   "cell_type": "code",
   "execution_count": 21,
   "id": "ecf8f335",
   "metadata": {},
   "outputs": [],
   "source": [
    "import glob"
   ]
  },
  {
   "cell_type": "code",
   "execution_count": 22,
   "id": "7ad85eff",
   "metadata": {},
   "outputs": [
    {
     "name": "stdout",
     "output_type": "stream",
     "text": [
      "['../data/gapminder_gdp_americas.csv', '../data/gapminder_gdp_europe.csv', '../data/gapminder_all.csv', '../data/gapminder_gdp_oceania.csv', '../data/gapminder_gdp_africa.csv', '../data/gapminder_gdp_asia.csv']\n"
     ]
    }
   ],
   "source": [
    "print(glob.glob(\"../data/*.csv\"))"
   ]
  },
  {
   "cell_type": "code",
   "execution_count": null,
   "id": "7a4a4d82",
   "metadata": {},
   "outputs": [],
   "source": [
    "for filename in glob.glob(\"..\")"
   ]
  }
 ],
 "metadata": {
  "kernelspec": {
   "display_name": "Python 3 (ipykernel)",
   "language": "python",
   "name": "python3"
  },
  "language_info": {
   "codemirror_mode": {
    "name": "ipython",
    "version": 3
   },
   "file_extension": ".py",
   "mimetype": "text/x-python",
   "name": "python",
   "nbconvert_exporter": "python",
   "pygments_lexer": "ipython3",
   "version": "3.8.5"
  }
 },
 "nbformat": 4,
 "nbformat_minor": 5
}
