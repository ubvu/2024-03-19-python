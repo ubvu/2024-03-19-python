{
 "cells": [
  {
   "cell_type": "code",
   "execution_count": 1,
   "id": "8020dd15",
   "metadata": {},
   "outputs": [],
   "source": [
    "import pandas as pd"
   ]
  },
  {
   "cell_type": "code",
   "execution_count": 5,
   "id": "430e7aa6",
   "metadata": {},
   "outputs": [
    {
     "name": "stdout",
     "output_type": "stream",
     "text": [
      "../data/gapminder_gdp_africa.csv               gdpPercap_1952  gdpPercap_1957  gdpPercap_1962  gdpPercap_1967  \\\n",
      "country                                                                        \n",
      "Algeria          2449.008185     3013.976023     2550.816880     3246.991771   \n",
      "Angola           3520.610273     3827.940465     4269.276742     5522.776375   \n",
      "Benin            1062.752200      959.601080      949.499064     1035.831411   \n",
      "Botswana          851.241141      918.232535      983.653976     1214.709294   \n",
      "Burkina Faso      543.255241      617.183465      722.512021      794.826560   \n",
      "\n",
      "              gdpPercap_1972  gdpPercap_1977  gdpPercap_1982  gdpPercap_1987  \\\n",
      "country                                                                        \n",
      "Algeria          4182.663766     4910.416756     5745.160213     5681.358539   \n",
      "Angola           5473.288005     3008.647355     2756.953672     2430.208311   \n",
      "Benin            1085.796879     1029.161251     1277.897616     1225.856010   \n",
      "Botswana         2263.611114     3214.857818     4551.142150     6205.883850   \n",
      "Burkina Faso      854.735976      743.387037      807.198586      912.063142   \n",
      "\n",
      "              gdpPercap_1992  gdpPercap_1997  gdpPercap_2002  gdpPercap_2007  \n",
      "country                                                                       \n",
      "Algeria          5023.216647     4797.295051     5288.040382     6223.367465  \n",
      "Angola           2627.845685     2277.140884     2773.287312     4797.231267  \n",
      "Benin            1191.207681     1232.975292     1372.877931     1441.284873  \n",
      "Botswana         7954.111645     8647.142313    11003.605080    12569.851770  \n",
      "Burkina Faso      931.752773      946.294962     1037.645221     1217.032994  \n",
      "../data/gapminder_gdp_asia.csv              gdpPercap_1952  gdpPercap_1957  gdpPercap_1962  gdpPercap_1967  \\\n",
      "country                                                                       \n",
      "Afghanistan      779.445314      820.853030      853.100710      836.197138   \n",
      "Bahrain         9867.084765    11635.799450    12753.275140    14804.672700   \n",
      "Bangladesh       684.244172      661.637458      686.341554      721.186086   \n",
      "Cambodia         368.469286      434.038336      496.913648      523.432314   \n",
      "China            400.448611      575.987001      487.674018      612.705693   \n",
      "\n",
      "             gdpPercap_1972  gdpPercap_1977  gdpPercap_1982  gdpPercap_1987  \\\n",
      "country                                                                       \n",
      "Afghanistan      739.981106      786.113360      978.011439      852.395945   \n",
      "Bahrain        18268.658390    19340.101960    19211.147310    18524.024060   \n",
      "Bangladesh       630.233627      659.877232      676.981866      751.979403   \n",
      "Cambodia         421.624026      524.972183      624.475478      683.895573   \n",
      "China            676.900092      741.237470      962.421381     1378.904018   \n",
      "\n",
      "             gdpPercap_1992  gdpPercap_1997  gdpPercap_2002  gdpPercap_2007  \n",
      "country                                                                      \n",
      "Afghanistan      649.341395      635.341351      726.734055      974.580338  \n",
      "Bahrain        19035.579170    20292.016790    23403.559270    29796.048340  \n",
      "Bangladesh       837.810164      972.770035     1136.390430     1391.253792  \n",
      "Cambodia         682.303175      734.285170      896.226015     1713.778686  \n",
      "China           1655.784158     2289.234136     3119.280896     4959.114854  \n"
     ]
    }
   ],
   "source": [
    "for filename in [\"../data/gapminder_gdp_africa.csv\", \"../data/gapminder_gdp_asia.csv\"]:\n",
    "    data = pd.read_csv(filename, index_col=\"country\")\n",
    "    print(filename, data.head())\n",
    "    \n"
   ]
  }
 ],
 "metadata": {
  "kernelspec": {
   "display_name": "Python 3 (ipykernel)",
   "language": "python",
   "name": "python3"
  },
  "language_info": {
   "codemirror_mode": {
    "name": "ipython",
    "version": 3
   },
   "file_extension": ".py",
   "mimetype": "text/x-python",
   "name": "python",
   "nbconvert_exporter": "python",
   "pygments_lexer": "ipython3",
   "version": "3.8.5"
  }
 },
 "nbformat": 4,
 "nbformat_minor": 5
}
