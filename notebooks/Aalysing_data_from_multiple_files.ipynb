{
 "cells": [
  {
   "cell_type": "code",
   "execution_count": 1,
   "id": "ae0d6b70",
   "metadata": {},
   "outputs": [],
   "source": [
    "import pandas as pd"
   ]
  },
  {
   "cell_type": "code",
   "execution_count": 12,
   "id": "2df1e35c",
   "metadata": {},
   "outputs": [
    {
     "name": "stdout",
     "output_type": "stream",
     "text": [
      "All the .csv files in the data directory: ['../data/gapminder_gdp_americas.csv', '../data/gapminder_gdp_europe.csv', '../data/gapminder_all.csv', '../data/gapminder_gdp_oceania.csv', '../data/gapminder_gdp_africa.csv', '../data/gapminder_gdp_asia.csv']\n"
     ]
    }
   ],
   "source": [
    "import glob\n",
    "\n",
    "print(\"All the .csv files in the data directory:\", glob.glob(\"../data/*.csv\"))"
   ]
  }
 ],
 "metadata": {
  "kernelspec": {
   "display_name": "Python 3 (ipykernel)",
   "language": "python",
   "name": "python3"
  },
  "language_info": {
   "codemirror_mode": {
    "name": "ipython",
    "version": 3
   },
   "file_extension": ".py",
   "mimetype": "text/x-python",
   "name": "python",
   "nbconvert_exporter": "python",
   "pygments_lexer": "ipython3",
   "version": "3.8.5"
  }
 },
 "nbformat": 4,
 "nbformat_minor": 5
}
