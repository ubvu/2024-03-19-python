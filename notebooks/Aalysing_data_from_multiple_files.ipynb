{
 "cells": [
  {
   "cell_type": "code",
   "execution_count": 1,
   "id": "e897733d",
   "metadata": {},
   "outputs": [],
   "source": [
    "import pandas as pd"
   ]
  },
  {
   "cell_type": "code",
   "execution_count": 11,
   "id": "a1f5fe50",
   "metadata": {},
   "outputs": [
    {
     "name": "stdout",
     "output_type": "stream",
     "text": [
      "All the .csv files in the data directory: ../data/gapminder_gdp_americas.csv\t../data/gapminder_gdp_europe.csv\t../data/gapminder_all.csv\t../data/gapminder_gdp_oceania.csv\t../data/gapminder_gdp_africa.csv\t../data/gapminder_gdp_asia.csv\n"
     ]
    }
   ],
   "source": [
    "import glob\n",
    "\n",
    "print(\"All the .csv files in the data directory:\", \"\\t\".join(glob.glob(\"../data/*.csv\")))"
   ]
  }
 ],
 "metadata": {
  "kernelspec": {
   "display_name": "Python 3 (ipykernel)",
   "language": "python",
   "name": "python3"
  },
  "language_info": {
   "codemirror_mode": {
    "name": "ipython",
    "version": 3
   },
   "file_extension": ".py",
   "mimetype": "text/x-python",
   "name": "python",
   "nbconvert_exporter": "python",
   "pygments_lexer": "ipython3",
   "version": "3.8.5"
  }
 },
 "nbformat": 4,
 "nbformat_minor": 5
}
