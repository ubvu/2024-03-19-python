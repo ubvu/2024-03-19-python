{
 "cells": [
  {
   "cell_type": "code",
   "execution_count": 1,
   "id": "2e39588d-4ef9-4165-90c0-4e04e7403753",
   "metadata": {
    "tags": []
   },
   "outputs": [
    {
     "ename": "NameError",
     "evalue": "name 'hghghghghg' is not defined",
     "output_type": "error",
     "traceback": [
      "\u001b[1;31m---------------------------------------------------------------------------\u001b[0m",
      "\u001b[1;31mNameError\u001b[0m                                 Traceback (most recent call last)",
      "Cell \u001b[1;32mIn[1], line 1\u001b[0m\n\u001b[1;32m----> 1\u001b[0m hghghghghg\n",
      "\u001b[1;31mNameError\u001b[0m: name 'hghghghghg' is not defined"
     ]
    }
   ],
   "source": [
    "hghghghghg"
   ]
  },
  {
   "cell_type": "code",
   "execution_count": null,
   "id": "e81e5d68-705a-4ce1-8b0f-ef49135097de",
   "metadata": {},
   "outputs": [],
   "source": []
  },
  {
   "cell_type": "code",
   "execution_count": null,
   "id": "27ce0d1c-d2a2-4585-af91-b930ca2aaf9d",
   "metadata": {},
   "outputs": [],
   "source": []
  },
  {
   "cell_type": "code",
   "execution_count": null,
   "id": "b9a6f175-2d29-4086-aaed-c0ebc5972013",
   "metadata": {},
   "outputs": [],
   "source": []
  }
 ],
 "metadata": {
  "kernelspec": {
   "display_name": "Python 3 (ipykernel)",
   "language": "python",
   "name": "python3"
  },
  "language_info": {
   "codemirror_mode": {
    "name": "ipython",
    "version": 3
   },
   "file_extension": ".py",
   "mimetype": "text/x-python",
   "name": "python",
   "nbconvert_exporter": "python",
   "pygments_lexer": "ipython3",
   "version": "3.11.5"
  }
 },
 "nbformat": 4,
 "nbformat_minor": 5
}
