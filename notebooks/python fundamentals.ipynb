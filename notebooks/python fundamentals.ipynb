{
 "cells": [
  {
   "cell_type": "markdown",
   "id": "a77795bc-4eab-4974-92c5-0ed061cbb595",
   "metadata": {},
   "source": [
    "Variables"
   ]
  },
  {
   "cell_type": "code",
   "execution_count": 2,
   "id": "27ce0d1c-d2a2-4585-af91-b930ca2aaf9d",
   "metadata": {
    "tags": []
   },
   "outputs": [
    {
     "data": {
      "text/plain": [
       "23"
      ]
     },
     "execution_count": 2,
     "metadata": {},
     "output_type": "execute_result"
    }
   ],
   "source": [
    "3 + 5 * 4"
   ]
  },
  {
   "cell_type": "code",
   "execution_count": 3,
   "id": "ff9eb284-3bc0-4dd3-82ff-10a0f8146826",
   "metadata": {
    "tags": []
   },
   "outputs": [],
   "source": [
    "name = 'Ruben'"
   ]
  },
  {
   "cell_type": "code",
   "execution_count": 4,
   "id": "927b9204-93cd-43e0-9d95-352550fa3db7",
   "metadata": {
    "tags": []
   },
   "outputs": [
    {
     "data": {
      "text/plain": [
       "'Ruben'"
      ]
     },
     "execution_count": 4,
     "metadata": {},
     "output_type": "execute_result"
    }
   ],
   "source": [
    "name"
   ]
  },
  {
   "cell_type": "code",
   "execution_count": 5,
   "id": "7d152bcf-f07c-4eb9-b96c-2eeb3136f4c7",
   "metadata": {
    "tags": []
   },
   "outputs": [],
   "source": [
    "name1 = 'Ruben'\n"
   ]
  },
  {
   "cell_type": "code",
   "execution_count": 6,
   "id": "be96e61d-fb27-46e1-b041-ec14e45f062e",
   "metadata": {
    "tags": []
   },
   "outputs": [
    {
     "ename": "SyntaxError",
     "evalue": "invalid decimal literal (1562282471.py, line 1)",
     "output_type": "error",
     "traceback": [
      "\u001b[1;36m  Cell \u001b[1;32mIn[6], line 1\u001b[1;36m\u001b[0m\n\u001b[1;33m    1name = 'Ruben'\u001b[0m\n\u001b[1;37m    ^\u001b[0m\n\u001b[1;31mSyntaxError\u001b[0m\u001b[1;31m:\u001b[0m invalid decimal literal\n"
     ]
    }
   ],
   "source": [
    "1name = 'Ruben'"
   ]
  },
  {
   "cell_type": "code",
   "execution_count": 7,
   "id": "0a8a2828-ded1-4b31-b7dd-9ddb5c6e4a50",
   "metadata": {
    "tags": []
   },
   "outputs": [
    {
     "data": {
      "text/plain": [
       "'Ruben'"
      ]
     },
     "execution_count": 7,
     "metadata": {},
     "output_type": "execute_result"
    }
   ],
   "source": [
    "name"
   ]
  },
  {
   "cell_type": "code",
   "execution_count": 8,
   "id": "7cd94aba-3f7c-4ca4-8f73-2650e0469d72",
   "metadata": {
    "tags": []
   },
   "outputs": [
    {
     "ename": "NameError",
     "evalue": "name 'Name' is not defined",
     "output_type": "error",
     "traceback": [
      "\u001b[1;31m---------------------------------------------------------------------------\u001b[0m",
      "\u001b[1;31mNameError\u001b[0m                                 Traceback (most recent call last)",
      "Cell \u001b[1;32mIn[8], line 1\u001b[0m\n\u001b[1;32m----> 1\u001b[0m Name\n",
      "\u001b[1;31mNameError\u001b[0m: name 'Name' is not defined"
     ]
    }
   ],
   "source": [
    "Name"
   ]
  },
  {
   "cell_type": "code",
   "execution_count": 11,
   "id": "12512313-559d-4051-9333-9e056f2d93cf",
   "metadata": {
    "tags": []
   },
   "outputs": [],
   "source": [
    "gdpPercapUSD = 2449"
   ]
  },
  {
   "cell_type": "code",
   "execution_count": 15,
   "id": "9e71ec40-3f0f-4575-97d2-7cd90d9176d4",
   "metadata": {
    "tags": []
   },
   "outputs": [],
   "source": [
    "gdpPercapUSD = 2449.5"
   ]
  },
  {
   "cell_type": "code",
   "execution_count": 12,
   "id": "6f06f12a-9ad9-40fc-bb77-4c033d981c12",
   "metadata": {
    "tags": []
   },
   "outputs": [
    {
     "data": {
      "text/plain": [
       "2449"
      ]
     },
     "execution_count": 12,
     "metadata": {},
     "output_type": "execute_result"
    }
   ],
   "source": [
    "gdpPercapUSD "
   ]
  },
  {
   "cell_type": "code",
   "execution_count": 16,
   "id": "c49c433a-ef49-4514-98a2-801c9f0458c6",
   "metadata": {
    "tags": []
   },
   "outputs": [],
   "source": [
    "gdpPercapGBP = gdpPercapUSD * 0.779"
   ]
  },
  {
   "cell_type": "code",
   "execution_count": 17,
   "id": "4220d1bd-7198-41ea-aabf-aacadce75295",
   "metadata": {
    "tags": []
   },
   "outputs": [
    {
     "data": {
      "text/plain": [
       "1908.1605"
      ]
     },
     "execution_count": 17,
     "metadata": {},
     "output_type": "execute_result"
    }
   ],
   "source": [
    "gdpPercapGBP"
   ]
  },
  {
   "cell_type": "code",
   "execution_count": 18,
   "id": "71afc442-3d3e-4e97-a071-b9d9852dd992",
   "metadata": {
    "tags": []
   },
   "outputs": [],
   "source": [
    "year = '1952'"
   ]
  },
  {
   "cell_type": "code",
   "execution_count": 19,
   "id": "1be8795a-5f57-4d55-9780-074b59b213b5",
   "metadata": {
    "tags": []
   },
   "outputs": [],
   "source": [
    "columnlabel = 'gpdPercap_' + year"
   ]
  },
  {
   "cell_type": "code",
   "execution_count": 20,
   "id": "3ee66a4f-0ed4-4807-bfaa-0670d810994f",
   "metadata": {
    "tags": []
   },
   "outputs": [
    {
     "data": {
      "text/plain": [
       "'gpdPercap_1952'"
      ]
     },
     "execution_count": 20,
     "metadata": {},
     "output_type": "execute_result"
    }
   ],
   "source": [
    "columnlabel"
   ]
  },
  {
   "cell_type": "markdown",
   "id": "c8465f0a-4f93-4f89-aceb-c3f504030d17",
   "metadata": {},
   "source": [
    "## Built in functions"
   ]
  },
  {
   "cell_type": "code",
   "execution_count": 21,
   "id": "1dc6bb28-645f-4fc0-8a62-3508fabfcd9b",
   "metadata": {
    "tags": []
   },
   "outputs": [
    {
     "name": "stdout",
     "output_type": "stream",
     "text": [
      "gpdPercap_1952\n"
     ]
    }
   ],
   "source": [
    "print(columnlabel)\n"
   ]
  },
  {
   "cell_type": "code",
   "execution_count": 22,
   "id": "7920d313-549a-497a-94a0-08175a968c71",
   "metadata": {
    "tags": []
   },
   "outputs": [
    {
     "name": "stdout",
     "output_type": "stream",
     "text": [
      "gpdPercap_1952 for algeria: 2449.5 (USD)\n"
     ]
    }
   ],
   "source": [
    "print(columnlabel, 'for algeria:', gdpPercapUSD, '(USD)')"
   ]
  },
  {
   "cell_type": "code",
   "execution_count": 23,
   "id": "1a44654b-85f5-437c-93c9-c692058a8e2e",
   "metadata": {
    "tags": []
   },
   "outputs": [
    {
     "name": "stdout",
     "output_type": "stream",
     "text": [
      "<class 'float'>\n",
      "<class 'str'>\n"
     ]
    }
   ],
   "source": [
    "print(type(2449.008))\n",
    "print(type(columnlabel))"
   ]
  },
  {
   "cell_type": "code",
   "execution_count": 25,
   "id": "d37e3209-80f2-49d7-8b17-87d7803f6ffe",
   "metadata": {
    "tags": []
   },
   "outputs": [
    {
     "data": {
      "text/plain": [
       "'gpdPercap_1952gpdPercap_1952'"
      ]
     },
     "execution_count": 25,
     "metadata": {},
     "output_type": "execute_result"
    }
   ],
   "source": [
    "columnlabel + columnlabel"
   ]
  },
  {
   "cell_type": "code",
   "execution_count": 26,
   "id": "478c5308-c25b-42bc-85a5-ff7f4726e5d8",
   "metadata": {
    "tags": []
   },
   "outputs": [
    {
     "data": {
      "text/plain": [
       "5997640.184063999"
      ]
     },
     "execution_count": 26,
     "metadata": {},
     "output_type": "execute_result"
    }
   ],
   "source": [
    "2449.008 * 2449.008"
   ]
  },
  {
   "cell_type": "code",
   "execution_count": 27,
   "id": "4f935e0b-7a39-400c-a968-b2691455002a",
   "metadata": {
    "tags": []
   },
   "outputs": [
    {
     "ename": "TypeError",
     "evalue": "can only concatenate str (not \"float\") to str",
     "output_type": "error",
     "traceback": [
      "\u001b[1;31m---------------------------------------------------------------------------\u001b[0m",
      "\u001b[1;31mTypeError\u001b[0m                                 Traceback (most recent call last)",
      "Cell \u001b[1;32mIn[27], line 1\u001b[0m\n\u001b[1;32m----> 1\u001b[0m columnlabel \u001b[38;5;241m+\u001b[39m \u001b[38;5;241m2449.008\u001b[39m\n",
      "\u001b[1;31mTypeError\u001b[0m: can only concatenate str (not \"float\") to str"
     ]
    }
   ],
   "source": [
    "columnlabel + 2449.008"
   ]
  },
  {
   "cell_type": "code",
   "execution_count": 28,
   "id": "2f9031aa-f797-400b-afc9-6139cc162590",
   "metadata": {
    "tags": []
   },
   "outputs": [
    {
     "data": {
      "text/plain": [
       "'1952'"
      ]
     },
     "execution_count": 28,
     "metadata": {},
     "output_type": "execute_result"
    }
   ],
   "source": [
    "year"
   ]
  },
  {
   "cell_type": "code",
   "execution_count": 29,
   "id": "d042293e-d4e4-400f-9480-957f83313724",
   "metadata": {
    "tags": []
   },
   "outputs": [
    {
     "name": "stdout",
     "output_type": "stream",
     "text": [
      "<class 'str'>\n"
     ]
    }
   ],
   "source": [
    "print(type(year))"
   ]
  },
  {
   "cell_type": "code",
   "execution_count": 30,
   "id": "908204ad-21a4-4634-ab9f-a6c3ff78ec1f",
   "metadata": {
    "tags": []
   },
   "outputs": [
    {
     "ename": "TypeError",
     "evalue": "unsupported operand type(s) for -: 'int' and 'str'",
     "output_type": "error",
     "traceback": [
      "\u001b[1;31m---------------------------------------------------------------------------\u001b[0m",
      "\u001b[1;31mTypeError\u001b[0m                                 Traceback (most recent call last)",
      "Cell \u001b[1;32mIn[30], line 1\u001b[0m\n\u001b[1;32m----> 1\u001b[0m \u001b[38;5;241m2024\u001b[39m \u001b[38;5;241m-\u001b[39m year\n",
      "\u001b[1;31mTypeError\u001b[0m: unsupported operand type(s) for -: 'int' and 'str'"
     ]
    }
   ],
   "source": [
    "2024 - year"
   ]
  },
  {
   "cell_type": "code",
   "execution_count": 31,
   "id": "3afea43b-db3c-4fbb-8d06-74ef00029fbe",
   "metadata": {
    "tags": []
   },
   "outputs": [
    {
     "data": {
      "text/plain": [
       "72"
      ]
     },
     "execution_count": 31,
     "metadata": {},
     "output_type": "execute_result"
    }
   ],
   "source": [
    "2024 - int(year)"
   ]
  },
  {
   "cell_type": "code",
   "execution_count": 32,
   "id": "8d626230-8bdf-4094-94c8-cc16b6529824",
   "metadata": {
    "tags": []
   },
   "outputs": [
    {
     "name": "stdout",
     "output_type": "stream",
     "text": [
      "<class 'int'>\n"
     ]
    }
   ],
   "source": [
    "print(type(2024))"
   ]
  },
  {
   "cell_type": "code",
   "execution_count": 33,
   "id": "69c16683-c019-468f-98b7-68173b37b25d",
   "metadata": {
    "tags": []
   },
   "outputs": [
    {
     "name": "stdout",
     "output_type": "stream",
     "text": [
      "<class 'str'>\n"
     ]
    }
   ],
   "source": [
    "current_year = str(2024)\n",
    "print(type(current_year))"
   ]
  },
  {
   "cell_type": "code",
   "execution_count": 34,
   "id": "aed7804d-d85a-466e-bc82-24d3aec95c28",
   "metadata": {
    "tags": []
   },
   "outputs": [
    {
     "data": {
      "text/plain": [
       "'2024'"
      ]
     },
     "execution_count": 34,
     "metadata": {},
     "output_type": "execute_result"
    }
   ],
   "source": [
    "current_year"
   ]
  },
  {
   "cell_type": "code",
   "execution_count": 35,
   "id": "cece6418-2ca5-4481-affa-6046286a5a2e",
   "metadata": {
    "tags": []
   },
   "outputs": [],
   "source": [
    "mass = 47.5\n",
    "age = 122 \n",
    "mass = mass * 2.0\n",
    "age = age - 20"
   ]
  },
  {
   "cell_type": "code",
   "execution_count": 37,
   "id": "0dc55f18-110b-4da5-a1d6-0f5cdae9ddbd",
   "metadata": {
    "tags": []
   },
   "outputs": [
    {
     "name": "stdout",
     "output_type": "stream",
     "text": [
      "mass =  95.0 äge =  102\n"
     ]
    }
   ],
   "source": [
    "print(\"mass = \", mass, 'äge = ', age)"
   ]
  },
  {
   "cell_type": "code",
   "execution_count": null,
   "id": "57e82352-b575-4c58-a81e-be227897d0a3",
   "metadata": {},
   "outputs": [],
   "source": []
  }
 ],
 "metadata": {
  "kernelspec": {
   "display_name": "Python 3 (ipykernel)",
   "language": "python",
   "name": "python3"
  },
  "language_info": {
   "codemirror_mode": {
    "name": "ipython",
    "version": 3
   },
   "file_extension": ".py",
   "mimetype": "text/x-python",
   "name": "python",
   "nbconvert_exporter": "python",
   "pygments_lexer": "ipython3",
   "version": "3.11.5"
  }
 },
 "nbformat": 4,
 "nbformat_minor": 5
}
