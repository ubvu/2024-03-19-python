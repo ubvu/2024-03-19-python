{
 "cells": [
  {
   "cell_type": "markdown",
   "id": "dd87d367-5678-4db6-8b49-2d78769708c0",
   "metadata": {},
   "source": [
    "## python lists"
   ]
  },
  {
   "cell_type": "code",
   "execution_count": 1,
   "id": "af5f6403-de0f-402f-9143-0f45909b4501",
   "metadata": {
    "tags": []
   },
   "outputs": [
    {
     "name": "stdout",
     "output_type": "stream",
     "text": [
      "odds are: [1, 3, 5, 7]\n"
     ]
    }
   ],
   "source": [
    "# create a list\n",
    "odds = [1, 3, 5, 7]\n",
    "print('odds are:', odds)"
   ]
  },
  {
   "cell_type": "code",
   "execution_count": 2,
   "id": "f129f8f2-f9b6-40bf-a5fa-0275c459638c",
   "metadata": {
    "tags": []
   },
   "outputs": [
    {
     "data": {
      "text/plain": [
       "[1, 3, 5, 7]"
      ]
     },
     "execution_count": 2,
     "metadata": {},
     "output_type": "execute_result"
    }
   ],
   "source": [
    "odds"
   ]
  },
  {
   "cell_type": "code",
   "execution_count": 3,
   "id": "5f1170f7-e842-4dda-986c-f052f1ca39fe",
   "metadata": {
    "tags": []
   },
   "outputs": [
    {
     "name": "stdout",
     "output_type": "stream",
     "text": [
      "first element: 1\n"
     ]
    }
   ],
   "source": [
    "print('first element:', odds[0])"
   ]
  },
  {
   "cell_type": "code",
   "execution_count": 4,
   "id": "ff23b24f-88ee-4495-9d0d-943c520c2849",
   "metadata": {
    "tags": []
   },
   "outputs": [
    {
     "data": {
      "text/plain": [
       "3"
      ]
     },
     "execution_count": 4,
     "metadata": {},
     "output_type": "execute_result"
    }
   ],
   "source": [
    "odds[1]"
   ]
  },
  {
   "cell_type": "code",
   "execution_count": 5,
   "id": "1530f9dc-1e4d-4534-b33b-a82d664b8a59",
   "metadata": {
    "tags": []
   },
   "outputs": [
    {
     "data": {
      "text/plain": [
       "7"
      ]
     },
     "execution_count": 5,
     "metadata": {},
     "output_type": "execute_result"
    }
   ],
   "source": [
    "odds[3]"
   ]
  },
  {
   "cell_type": "code",
   "execution_count": 6,
   "id": "5e1f597b-298e-4be6-9a06-3d5ccbe05292",
   "metadata": {
    "tags": []
   },
   "outputs": [
    {
     "data": {
      "text/plain": [
       "7"
      ]
     },
     "execution_count": 6,
     "metadata": {},
     "output_type": "execute_result"
    }
   ],
   "source": [
    "odds[-1]"
   ]
  },
  {
   "cell_type": "code",
   "execution_count": 7,
   "id": "87222b8d-f4cc-4e69-940e-d040975e9463",
   "metadata": {
    "tags": []
   },
   "outputs": [
    {
     "data": {
      "text/plain": [
       "5"
      ]
     },
     "execution_count": 7,
     "metadata": {},
     "output_type": "execute_result"
    }
   ],
   "source": [
    "odds[-2]"
   ]
  },
  {
   "cell_type": "code",
   "execution_count": 8,
   "id": "43adac41-487d-4a16-81fc-077fda8d628d",
   "metadata": {
    "tags": []
   },
   "outputs": [
    {
     "name": "stdout",
     "output_type": "stream",
     "text": [
      "names is originally: ['Curie', 'Darwing', 'Turing']\n",
      "final value of names: ['Curie', 'Darwin', 'Turing']\n"
     ]
    }
   ],
   "source": [
    "names = ['Curie', 'Darwing', 'Turing']\n",
    "print('names is originally:', names)\n",
    "names[1] = 'Darwin'\n",
    "print('final value of names:', names)"
   ]
  },
  {
   "cell_type": "code",
   "execution_count": 9,
   "id": "9d235eb3-c242-40ac-88b6-6f86d51fe942",
   "metadata": {
    "tags": []
   },
   "outputs": [
    {
     "ename": "TypeError",
     "evalue": "'str' object does not support item assignment",
     "output_type": "error",
     "traceback": [
      "\u001b[1;31m---------------------------------------------------------------------------\u001b[0m",
      "\u001b[1;31mTypeError\u001b[0m                                 Traceback (most recent call last)",
      "Cell \u001b[1;32mIn[9], line 2\u001b[0m\n\u001b[0;32m      1\u001b[0m name \u001b[38;5;241m=\u001b[39m \u001b[38;5;124m'\u001b[39m\u001b[38;5;124mDarwin\u001b[39m\u001b[38;5;124m'\u001b[39m\n\u001b[1;32m----> 2\u001b[0m name[\u001b[38;5;241m0\u001b[39m] \u001b[38;5;241m=\u001b[39m \u001b[38;5;124m'\u001b[39m\u001b[38;5;124md\u001b[39m\u001b[38;5;124m'\u001b[39m\n",
      "\u001b[1;31mTypeError\u001b[0m: 'str' object does not support item assignment"
     ]
    }
   ],
   "source": [
    "name = 'Darwin'\n",
    "name[0] = 'd'"
   ]
  },
  {
   "cell_type": "code",
   "execution_count": 14,
   "id": "e49e62f2-e2b4-4a8d-bce0-24e65a54a18b",
   "metadata": {
    "tags": []
   },
   "outputs": [],
   "source": [
    "# create list of ingredients\n",
    "salsa = ['peppers', 'onions', 'cilantro', 'tomatoes']\n",
    "# make a copy of the list\n",
    "my_salsa = salsa.copy()\n",
    "salsa[0] = 'hot peppers'\n",
    "#print('ingredients in my salsa', my_salsa)"
   ]
  },
  {
   "cell_type": "code",
   "execution_count": 15,
   "id": "863547ec-ea45-40ce-aba8-643e915d0d1f",
   "metadata": {
    "tags": []
   },
   "outputs": [
    {
     "name": "stdout",
     "output_type": "stream",
     "text": [
      "my_salsa: ['peppers', 'onions', 'cilantro', 'tomatoes']\n",
      "salsa: ['hot peppers', 'onions', 'cilantro', 'tomatoes']\n"
     ]
    }
   ],
   "source": [
    "print('my_salsa:', my_salsa)\n",
    "print('salsa:', salsa)"
   ]
  },
  {
   "cell_type": "markdown",
   "id": "fa19da7c-1817-4689-aeb6-249ab7fd93b6",
   "metadata": {},
   "source": [
    "# nested lists"
   ]
  },
  {
   "cell_type": "code",
   "execution_count": 16,
   "id": "78ee41f7-0a54-4047-bf3b-d5c52d1f45ff",
   "metadata": {
    "tags": []
   },
   "outputs": [],
   "source": [
    "x = [['pepper', 'zucchini', 'onion'],['cabbage', 'lettuce', 'garlic'], ['apple','pear', 'banana']]"
   ]
  },
  {
   "cell_type": "code",
   "execution_count": 17,
   "id": "3fbe13bb-a665-4aa0-89a1-1c81bd871bcf",
   "metadata": {
    "tags": []
   },
   "outputs": [
    {
     "name": "stdout",
     "output_type": "stream",
     "text": [
      "[['pepper', 'zucchini', 'onion'], ['cabbage', 'lettuce', 'garlic'], ['apple', 'pear', 'banana']]\n"
     ]
    }
   ],
   "source": [
    "print(x)"
   ]
  },
  {
   "cell_type": "code",
   "execution_count": 18,
   "id": "151fe776-95ab-410a-9989-fa37ceafdb23",
   "metadata": {
    "tags": []
   },
   "outputs": [
    {
     "name": "stdout",
     "output_type": "stream",
     "text": [
      "['pepper', 'zucchini', 'onion']\n"
     ]
    }
   ],
   "source": [
    "print(x[0])"
   ]
  },
  {
   "cell_type": "code",
   "execution_count": 19,
   "id": "93a61775-8017-4697-ade5-5be858823502",
   "metadata": {
    "tags": []
   },
   "outputs": [
    {
     "name": "stdout",
     "output_type": "stream",
     "text": [
      "pepper\n"
     ]
    }
   ],
   "source": [
    "print(x[0][0])"
   ]
  },
  {
   "cell_type": "code",
   "execution_count": 20,
   "id": "984cedc5-22a5-48de-9c14-cd76b32209b5",
   "metadata": {
    "tags": []
   },
   "outputs": [
    {
     "name": "stdout",
     "output_type": "stream",
     "text": [
      "onion\n"
     ]
    }
   ],
   "source": [
    "print(x[0][-1])"
   ]
  },
  {
   "cell_type": "code",
   "execution_count": 21,
   "id": "fed89af1-27bd-4dda-8503-42888e9a2667",
   "metadata": {
    "tags": []
   },
   "outputs": [
    {
     "name": "stdout",
     "output_type": "stream",
     "text": [
      "lettuce\n"
     ]
    }
   ],
   "source": [
    "print(x[1][1])"
   ]
  },
  {
   "cell_type": "markdown",
   "id": "a77fcde2-d194-4229-93dd-bcc1d8848ef8",
   "metadata": {},
   "source": [
    "#  heterogeneous lists"
   ]
  },
  {
   "cell_type": "code",
   "execution_count": 22,
   "id": "2ac59fe4-41cb-4f98-8248-fd7caf7bdf7e",
   "metadata": {
    "tags": []
   },
   "outputs": [],
   "source": [
    "ages = [10, 12.5, 'unknown']"
   ]
  },
  {
   "cell_type": "markdown",
   "id": "9fa50164-3e52-4f86-ad12-e80bec5160c7",
   "metadata": {},
   "source": [
    "# modify lists"
   ]
  },
  {
   "cell_type": "code",
   "execution_count": 23,
   "id": "6e9655e0-09b2-4975-bb32-b2bf751a4b1f",
   "metadata": {
    "tags": []
   },
   "outputs": [
    {
     "data": {
      "text/plain": [
       "[1, 3, 5, 7]"
      ]
     },
     "execution_count": 23,
     "metadata": {},
     "output_type": "execute_result"
    }
   ],
   "source": [
    "odds"
   ]
  },
  {
   "cell_type": "code",
   "execution_count": 24,
   "id": "c405529c-1f58-44bc-a9c9-2e06a2929b65",
   "metadata": {
    "tags": []
   },
   "outputs": [],
   "source": [
    "odds.append(9)"
   ]
  },
  {
   "cell_type": "code",
   "execution_count": 25,
   "id": "fde07130-5d7d-4d8b-8bbd-3bfe7a839b78",
   "metadata": {
    "tags": []
   },
   "outputs": [
    {
     "name": "stdout",
     "output_type": "stream",
     "text": [
      "[1, 3, 5, 7, 9]\n"
     ]
    }
   ],
   "source": [
    "print(odds)"
   ]
  },
  {
   "cell_type": "code",
   "execution_count": 28,
   "id": "51d2497a-64f1-4c1f-a20e-0ac483a2a395",
   "metadata": {
    "tags": []
   },
   "outputs": [],
   "source": [
    "odds.insert(1, 9)"
   ]
  },
  {
   "cell_type": "code",
   "execution_count": 29,
   "id": "a5eb5a53-42b7-4fd8-b315-d3f60ed475c6",
   "metadata": {
    "tags": []
   },
   "outputs": [
    {
     "name": "stdout",
     "output_type": "stream",
     "text": [
      "[1, 9, 3, 5, 7, 9]\n"
     ]
    }
   ],
   "source": [
    "print(odds)"
   ]
  },
  {
   "cell_type": "code",
   "execution_count": 30,
   "id": "d169a9ab-0419-4d6e-9ef1-d235dc0b14e4",
   "metadata": {
    "tags": []
   },
   "outputs": [
    {
     "name": "stdout",
     "output_type": "stream",
     "text": [
      "odds after removing 2nd element: [1, 3, 5, 7, 9]\n",
      "removed element: 9\n"
     ]
    }
   ],
   "source": [
    "removed_element = odds.pop(1)\n",
    "print('odds after removing 2nd element:', odds)\n",
    "print('removed element:', removed_element)"
   ]
  },
  {
   "cell_type": "code",
   "execution_count": null,
   "id": "a3af9bb9-b28d-4202-bd52-e343a3f7c2b5",
   "metadata": {},
   "outputs": [],
   "source": []
  },
  {
   "cell_type": "code",
   "execution_count": 38,
   "id": "3fcb4973-32e4-4a11-b577-956141d096f5",
   "metadata": {
    "tags": []
   },
   "outputs": [
    {
     "name": "stdout",
     "output_type": "stream",
     "text": [
      "['2', '3', '4']\n"
     ]
    }
   ],
   "source": [
    "\n",
    "chromosomes = ['x', 'y', '2', '3', '4']\n",
    "autosomes = chromosomes[-3:]\n",
    "print(autosomes)"
   ]
  },
  {
   "cell_type": "code",
   "execution_count": 41,
   "id": "2d3f60e5-73de-48cc-9ca3-88d977670d7e",
   "metadata": {
    "tags": []
   },
   "outputs": [
    {
     "name": "stdout",
     "output_type": "stream",
     "text": [
      "rain\n"
     ]
    }
   ],
   "source": [
    "text = 'brains'\n",
    "rain = text[1:5]\n",
    "print(rain)"
   ]
  },
  {
   "cell_type": "code",
   "execution_count": 42,
   "id": "714d13dc-890c-4da4-b9c8-45b415fc006e",
   "metadata": {
    "tags": []
   },
   "outputs": [
    {
     "ename": "TypeError",
     "evalue": "'int' object is not subscriptable",
     "output_type": "error",
     "traceback": [
      "\u001b[1;31m---------------------------------------------------------------------------\u001b[0m",
      "\u001b[1;31mTypeError\u001b[0m                                 Traceback (most recent call last)",
      "Cell \u001b[1;32mIn[42], line 2\u001b[0m\n\u001b[0;32m      1\u001b[0m number \u001b[38;5;241m=\u001b[39m \u001b[38;5;241m4567\u001b[39m\n\u001b[1;32m----> 2\u001b[0m number[\u001b[38;5;241m0\u001b[39m]\n",
      "\u001b[1;31mTypeError\u001b[0m: 'int' object is not subscriptable"
     ]
    }
   ],
   "source": [
    "number = 4567\n",
    "number[0]"
   ]
  },
  {
   "cell_type": "code",
   "execution_count": null,
   "id": "04670232-06bf-4f5d-bdb0-ed84537906dc",
   "metadata": {},
   "outputs": [],
   "source": [
    "primes = [2, 3, 5 ,7 ,11 ,13, 17, 19, 23, 29, 31, 37]"
   ]
  }
 ],
 "metadata": {
  "kernelspec": {
   "display_name": "Python 3 (ipykernel)",
   "language": "python",
   "name": "python3"
  },
  "language_info": {
   "codemirror_mode": {
    "name": "ipython",
    "version": 3
   },
   "file_extension": ".py",
   "mimetype": "text/x-python",
   "name": "python",
   "nbconvert_exporter": "python",
   "pygments_lexer": "ipython3",
   "version": "3.11.5"
  }
 },
 "nbformat": 4,
 "nbformat_minor": 5
}
