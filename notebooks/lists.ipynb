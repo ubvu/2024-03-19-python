{
 "cells": [
  {
   "cell_type": "markdown",
   "id": "dd87d367-5678-4db6-8b49-2d78769708c0",
   "metadata": {},
   "source": [
    "## python lists"
   ]
  },
  {
   "cell_type": "code",
   "execution_count": null,
   "id": "af5f6403-de0f-402f-9143-0f45909b4501",
   "metadata": {},
   "outputs": [],
   "source": [
    "# create a list\n",
    "odds = [1, ]"
   ]
  }
 ],
 "metadata": {
  "kernelspec": {
   "display_name": "Python 3 (ipykernel)",
   "language": "python",
   "name": "python3"
  },
  "language_info": {
   "codemirror_mode": {
    "name": "ipython",
    "version": 3
   },
   "file_extension": ".py",
   "mimetype": "text/x-python",
   "name": "python",
   "nbconvert_exporter": "python",
   "pygments_lexer": "ipython3",
   "version": "3.11.5"
  }
 },
 "nbformat": 4,
 "nbformat_minor": 5
}
