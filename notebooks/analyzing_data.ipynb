{
 "cells": [
  {
   "cell_type": "markdown",
   "id": "5c333c29-975d-4abe-ad21-4397103f0633",
   "metadata": {},
   "source": [
    "# Pandas: libray for data analysis"
   ]
  },
  {
   "cell_type": "code",
   "execution_count": 1,
   "id": "4c6293ab-4dec-433b-843a-4b6c855fd270",
   "metadata": {},
   "outputs": [],
   "source": [
    "import pandas"
   ]
  },
  {
   "cell_type": "code",
   "execution_count": 3,
   "id": "8a2075b1-0009-4178-9a64-9c2eef808274",
   "metadata": {},
   "outputs": [],
   "source": [
    "import pandas as pd"
   ]
  },
  {
   "cell_type": "code",
   "execution_count": 4,
   "id": "ceea6226-9e7c-4834-b2d0-e97eaf3ac578",
   "metadata": {},
   "outputs": [
    {
     "data": {
      "text/html": [
       "<div>\n",
       "<style scoped>\n",
       "    .dataframe tbody tr th:only-of-type {\n",
       "        vertical-align: middle;\n",
       "    }\n",
       "\n",
       "    .dataframe tbody tr th {\n",
       "        vertical-align: top;\n",
       "    }\n",
       "\n",
       "    .dataframe thead th {\n",
       "        text-align: right;\n",
       "    }\n",
       "</style>\n",
       "<table border=\"1\" class=\"dataframe\">\n",
       "  <thead>\n",
       "    <tr style=\"text-align: right;\">\n",
       "      <th></th>\n",
       "      <th>country</th>\n",
       "      <th>gdpPercap_1952</th>\n",
       "      <th>gdpPercap_1957</th>\n",
       "      <th>gdpPercap_1962</th>\n",
       "      <th>gdpPercap_1967</th>\n",
       "      <th>gdpPercap_1972</th>\n",
       "      <th>gdpPercap_1977</th>\n",
       "      <th>gdpPercap_1982</th>\n",
       "      <th>gdpPercap_1987</th>\n",
       "      <th>gdpPercap_1992</th>\n",
       "      <th>gdpPercap_1997</th>\n",
       "      <th>gdpPercap_2002</th>\n",
       "      <th>gdpPercap_2007</th>\n",
       "    </tr>\n",
       "  </thead>\n",
       "  <tbody>\n",
       "    <tr>\n",
       "      <th>0</th>\n",
       "      <td>Australia</td>\n",
       "      <td>10039.59564</td>\n",
       "      <td>10949.64959</td>\n",
       "      <td>12217.22686</td>\n",
       "      <td>14526.12465</td>\n",
       "      <td>16788.62948</td>\n",
       "      <td>18334.19751</td>\n",
       "      <td>19477.00928</td>\n",
       "      <td>21888.88903</td>\n",
       "      <td>23424.76683</td>\n",
       "      <td>26997.93657</td>\n",
       "      <td>30687.75473</td>\n",
       "      <td>34435.36744</td>\n",
       "    </tr>\n",
       "    <tr>\n",
       "      <th>1</th>\n",
       "      <td>New Zealand</td>\n",
       "      <td>10556.57566</td>\n",
       "      <td>12247.39532</td>\n",
       "      <td>13175.67800</td>\n",
       "      <td>14463.91893</td>\n",
       "      <td>16046.03728</td>\n",
       "      <td>16233.71770</td>\n",
       "      <td>17632.41040</td>\n",
       "      <td>19007.19129</td>\n",
       "      <td>18363.32494</td>\n",
       "      <td>21050.41377</td>\n",
       "      <td>23189.80135</td>\n",
       "      <td>25185.00911</td>\n",
       "    </tr>\n",
       "  </tbody>\n",
       "</table>\n",
       "</div>"
      ],
      "text/plain": [
       "       country  gdpPercap_1952  gdpPercap_1957  gdpPercap_1962   \n",
       "0    Australia     10039.59564     10949.64959     12217.22686  \\\n",
       "1  New Zealand     10556.57566     12247.39532     13175.67800   \n",
       "\n",
       "   gdpPercap_1967  gdpPercap_1972  gdpPercap_1977  gdpPercap_1982   \n",
       "0     14526.12465     16788.62948     18334.19751     19477.00928  \\\n",
       "1     14463.91893     16046.03728     16233.71770     17632.41040   \n",
       "\n",
       "   gdpPercap_1987  gdpPercap_1992  gdpPercap_1997  gdpPercap_2002   \n",
       "0     21888.88903     23424.76683     26997.93657     30687.75473  \\\n",
       "1     19007.19129     18363.32494     21050.41377     23189.80135   \n",
       "\n",
       "   gdpPercap_2007  \n",
       "0     34435.36744  \n",
       "1     25185.00911  "
      ]
     },
     "execution_count": 4,
     "metadata": {},
     "output_type": "execute_result"
    }
   ],
   "source": [
    "pd.read_csv('../data/gapminder_gdp_oceania.csv')"
   ]
  },
  {
   "cell_type": "code",
   "execution_count": 5,
   "id": "46a85090-1da0-4d85-b305-5c6fdfc5c09f",
   "metadata": {},
   "outputs": [
    {
     "name": "stdout",
     "output_type": "stream",
     "text": [
      "       country  gdpPercap_1952  gdpPercap_1957  gdpPercap_1962   \n",
      "0    Australia     10039.59564     10949.64959     12217.22686  \\\n",
      "1  New Zealand     10556.57566     12247.39532     13175.67800   \n",
      "\n",
      "   gdpPercap_1967  gdpPercap_1972  gdpPercap_1977  gdpPercap_1982   \n",
      "0     14526.12465     16788.62948     18334.19751     19477.00928  \\\n",
      "1     14463.91893     16046.03728     16233.71770     17632.41040   \n",
      "\n",
      "   gdpPercap_1987  gdpPercap_1992  gdpPercap_1997  gdpPercap_2002   \n",
      "0     21888.88903     23424.76683     26997.93657     30687.75473  \\\n",
      "1     19007.19129     18363.32494     21050.41377     23189.80135   \n",
      "\n",
      "   gdpPercap_2007  \n",
      "0     34435.36744  \n",
      "1     25185.00911  \n"
     ]
    }
   ],
   "source": [
    "print(pd.read_csv('../data/gapminder_gdp_oceania.csv'))"
   ]
  },
  {
   "cell_type": "code",
   "execution_count": 6,
   "id": "aee3de2e-1b28-4513-a51e-bde2a4be7b0a",
   "metadata": {},
   "outputs": [],
   "source": [
    "data = pd.read_csv('../data/gapminder_gdp_oceania.csv')"
   ]
  },
  {
   "cell_type": "code",
   "execution_count": 7,
   "id": "e03aa74a-46d3-4bc1-b224-8a76f354eff1",
   "metadata": {},
   "outputs": [
    {
     "data": {
      "text/html": [
       "<div>\n",
       "<style scoped>\n",
       "    .dataframe tbody tr th:only-of-type {\n",
       "        vertical-align: middle;\n",
       "    }\n",
       "\n",
       "    .dataframe tbody tr th {\n",
       "        vertical-align: top;\n",
       "    }\n",
       "\n",
       "    .dataframe thead th {\n",
       "        text-align: right;\n",
       "    }\n",
       "</style>\n",
       "<table border=\"1\" class=\"dataframe\">\n",
       "  <thead>\n",
       "    <tr style=\"text-align: right;\">\n",
       "      <th></th>\n",
       "      <th>country</th>\n",
       "      <th>gdpPercap_1952</th>\n",
       "      <th>gdpPercap_1957</th>\n",
       "      <th>gdpPercap_1962</th>\n",
       "      <th>gdpPercap_1967</th>\n",
       "      <th>gdpPercap_1972</th>\n",
       "      <th>gdpPercap_1977</th>\n",
       "      <th>gdpPercap_1982</th>\n",
       "      <th>gdpPercap_1987</th>\n",
       "      <th>gdpPercap_1992</th>\n",
       "      <th>gdpPercap_1997</th>\n",
       "      <th>gdpPercap_2002</th>\n",
       "      <th>gdpPercap_2007</th>\n",
       "    </tr>\n",
       "  </thead>\n",
       "  <tbody>\n",
       "    <tr>\n",
       "      <th>0</th>\n",
       "      <td>Australia</td>\n",
       "      <td>10039.59564</td>\n",
       "      <td>10949.64959</td>\n",
       "      <td>12217.22686</td>\n",
       "      <td>14526.12465</td>\n",
       "      <td>16788.62948</td>\n",
       "      <td>18334.19751</td>\n",
       "      <td>19477.00928</td>\n",
       "      <td>21888.88903</td>\n",
       "      <td>23424.76683</td>\n",
       "      <td>26997.93657</td>\n",
       "      <td>30687.75473</td>\n",
       "      <td>34435.36744</td>\n",
       "    </tr>\n",
       "    <tr>\n",
       "      <th>1</th>\n",
       "      <td>New Zealand</td>\n",
       "      <td>10556.57566</td>\n",
       "      <td>12247.39532</td>\n",
       "      <td>13175.67800</td>\n",
       "      <td>14463.91893</td>\n",
       "      <td>16046.03728</td>\n",
       "      <td>16233.71770</td>\n",
       "      <td>17632.41040</td>\n",
       "      <td>19007.19129</td>\n",
       "      <td>18363.32494</td>\n",
       "      <td>21050.41377</td>\n",
       "      <td>23189.80135</td>\n",
       "      <td>25185.00911</td>\n",
       "    </tr>\n",
       "  </tbody>\n",
       "</table>\n",
       "</div>"
      ],
      "text/plain": [
       "       country  gdpPercap_1952  gdpPercap_1957  gdpPercap_1962   \n",
       "0    Australia     10039.59564     10949.64959     12217.22686  \\\n",
       "1  New Zealand     10556.57566     12247.39532     13175.67800   \n",
       "\n",
       "   gdpPercap_1967  gdpPercap_1972  gdpPercap_1977  gdpPercap_1982   \n",
       "0     14526.12465     16788.62948     18334.19751     19477.00928  \\\n",
       "1     14463.91893     16046.03728     16233.71770     17632.41040   \n",
       "\n",
       "   gdpPercap_1987  gdpPercap_1992  gdpPercap_1997  gdpPercap_2002   \n",
       "0     21888.88903     23424.76683     26997.93657     30687.75473  \\\n",
       "1     19007.19129     18363.32494     21050.41377     23189.80135   \n",
       "\n",
       "   gdpPercap_2007  \n",
       "0     34435.36744  \n",
       "1     25185.00911  "
      ]
     },
     "execution_count": 7,
     "metadata": {},
     "output_type": "execute_result"
    }
   ],
   "source": [
    "data"
   ]
  },
  {
   "cell_type": "code",
   "execution_count": 10,
   "id": "5fb798f5-6e40-4631-83c7-168deef07e70",
   "metadata": {},
   "outputs": [],
   "source": [
    "data = pd.read_csv('../data/gapminder_gdp_oceania.csv', index_col='country')"
   ]
  },
  {
   "cell_type": "code",
   "execution_count": 11,
   "id": "7b1d73af-1380-434b-9ff0-a163bad397c0",
   "metadata": {},
   "outputs": [
    {
     "name": "stdout",
     "output_type": "stream",
     "text": [
      "<class 'pandas.core.frame.DataFrame'>\n",
      "Index: 2 entries, Australia to New Zealand\n",
      "Data columns (total 12 columns):\n",
      " #   Column          Non-Null Count  Dtype  \n",
      "---  ------          --------------  -----  \n",
      " 0   gdpPercap_1952  2 non-null      float64\n",
      " 1   gdpPercap_1957  2 non-null      float64\n",
      " 2   gdpPercap_1962  2 non-null      float64\n",
      " 3   gdpPercap_1967  2 non-null      float64\n",
      " 4   gdpPercap_1972  2 non-null      float64\n",
      " 5   gdpPercap_1977  2 non-null      float64\n",
      " 6   gdpPercap_1982  2 non-null      float64\n",
      " 7   gdpPercap_1987  2 non-null      float64\n",
      " 8   gdpPercap_1992  2 non-null      float64\n",
      " 9   gdpPercap_1997  2 non-null      float64\n",
      " 10  gdpPercap_2002  2 non-null      float64\n",
      " 11  gdpPercap_2007  2 non-null      float64\n",
      "dtypes: float64(12)\n",
      "memory usage: 208.0+ bytes\n"
     ]
    }
   ],
   "source": [
    "data.info()"
   ]
  },
  {
   "cell_type": "code",
   "execution_count": 12,
   "id": "210fc754-4666-46f3-a5a7-60420c45ffff",
   "metadata": {},
   "outputs": [
    {
     "data": {
      "text/plain": [
       "Index(['gdpPercap_1952', 'gdpPercap_1957', 'gdpPercap_1962', 'gdpPercap_1967',\n",
       "       'gdpPercap_1972', 'gdpPercap_1977', 'gdpPercap_1982', 'gdpPercap_1987',\n",
       "       'gdpPercap_1992', 'gdpPercap_1997', 'gdpPercap_2002', 'gdpPercap_2007'],\n",
       "      dtype='object')"
      ]
     },
     "execution_count": 12,
     "metadata": {},
     "output_type": "execute_result"
    }
   ],
   "source": [
    "data.columns"
   ]
  },
  {
   "cell_type": "code",
   "execution_count": 13,
   "id": "25a8b3ea-836f-4745-bef4-d0b247a188b6",
   "metadata": {},
   "outputs": [
    {
     "data": {
      "text/html": [
       "<div>\n",
       "<style scoped>\n",
       "    .dataframe tbody tr th:only-of-type {\n",
       "        vertical-align: middle;\n",
       "    }\n",
       "\n",
       "    .dataframe tbody tr th {\n",
       "        vertical-align: top;\n",
       "    }\n",
       "\n",
       "    .dataframe thead th {\n",
       "        text-align: right;\n",
       "    }\n",
       "</style>\n",
       "<table border=\"1\" class=\"dataframe\">\n",
       "  <thead>\n",
       "    <tr style=\"text-align: right;\">\n",
       "      <th>country</th>\n",
       "      <th>Australia</th>\n",
       "      <th>New Zealand</th>\n",
       "    </tr>\n",
       "  </thead>\n",
       "  <tbody>\n",
       "    <tr>\n",
       "      <th>gdpPercap_1952</th>\n",
       "      <td>10039.59564</td>\n",
       "      <td>10556.57566</td>\n",
       "    </tr>\n",
       "    <tr>\n",
       "      <th>gdpPercap_1957</th>\n",
       "      <td>10949.64959</td>\n",
       "      <td>12247.39532</td>\n",
       "    </tr>\n",
       "    <tr>\n",
       "      <th>gdpPercap_1962</th>\n",
       "      <td>12217.22686</td>\n",
       "      <td>13175.67800</td>\n",
       "    </tr>\n",
       "    <tr>\n",
       "      <th>gdpPercap_1967</th>\n",
       "      <td>14526.12465</td>\n",
       "      <td>14463.91893</td>\n",
       "    </tr>\n",
       "    <tr>\n",
       "      <th>gdpPercap_1972</th>\n",
       "      <td>16788.62948</td>\n",
       "      <td>16046.03728</td>\n",
       "    </tr>\n",
       "    <tr>\n",
       "      <th>gdpPercap_1977</th>\n",
       "      <td>18334.19751</td>\n",
       "      <td>16233.71770</td>\n",
       "    </tr>\n",
       "    <tr>\n",
       "      <th>gdpPercap_1982</th>\n",
       "      <td>19477.00928</td>\n",
       "      <td>17632.41040</td>\n",
       "    </tr>\n",
       "    <tr>\n",
       "      <th>gdpPercap_1987</th>\n",
       "      <td>21888.88903</td>\n",
       "      <td>19007.19129</td>\n",
       "    </tr>\n",
       "    <tr>\n",
       "      <th>gdpPercap_1992</th>\n",
       "      <td>23424.76683</td>\n",
       "      <td>18363.32494</td>\n",
       "    </tr>\n",
       "    <tr>\n",
       "      <th>gdpPercap_1997</th>\n",
       "      <td>26997.93657</td>\n",
       "      <td>21050.41377</td>\n",
       "    </tr>\n",
       "    <tr>\n",
       "      <th>gdpPercap_2002</th>\n",
       "      <td>30687.75473</td>\n",
       "      <td>23189.80135</td>\n",
       "    </tr>\n",
       "    <tr>\n",
       "      <th>gdpPercap_2007</th>\n",
       "      <td>34435.36744</td>\n",
       "      <td>25185.00911</td>\n",
       "    </tr>\n",
       "  </tbody>\n",
       "</table>\n",
       "</div>"
      ],
      "text/plain": [
       "country           Australia  New Zealand\n",
       "gdpPercap_1952  10039.59564  10556.57566\n",
       "gdpPercap_1957  10949.64959  12247.39532\n",
       "gdpPercap_1962  12217.22686  13175.67800\n",
       "gdpPercap_1967  14526.12465  14463.91893\n",
       "gdpPercap_1972  16788.62948  16046.03728\n",
       "gdpPercap_1977  18334.19751  16233.71770\n",
       "gdpPercap_1982  19477.00928  17632.41040\n",
       "gdpPercap_1987  21888.88903  19007.19129\n",
       "gdpPercap_1992  23424.76683  18363.32494\n",
       "gdpPercap_1997  26997.93657  21050.41377\n",
       "gdpPercap_2002  30687.75473  23189.80135\n",
       "gdpPercap_2007  34435.36744  25185.00911"
      ]
     },
     "execution_count": 13,
     "metadata": {},
     "output_type": "execute_result"
    }
   ],
   "source": [
    "data.T"
   ]
  },
  {
   "cell_type": "code",
   "execution_count": 14,
   "id": "f3cc8e79-6ba8-4fd0-9245-35cb5baa6bea",
   "metadata": {},
   "outputs": [],
   "source": [
    "odds = [1,3,5]"
   ]
  },
  {
   "cell_type": "code",
   "execution_count": null,
   "id": "3d38bbfb-c4f0-4bf6-b790-61a83e4df607",
   "metadata": {},
   "outputs": [],
   "source": [
    "# matplotlib"
   ]
  },
  {
   "cell_type": "code",
   "execution_count": 15,
   "id": "4c05a6f3-00aa-44ae-8ded-8234acf1f982",
   "metadata": {},
   "outputs": [
    {
     "data": {
      "text/html": [
       "<div>\n",
       "<style scoped>\n",
       "    .dataframe tbody tr th:only-of-type {\n",
       "        vertical-align: middle;\n",
       "    }\n",
       "\n",
       "    .dataframe tbody tr th {\n",
       "        vertical-align: top;\n",
       "    }\n",
       "\n",
       "    .dataframe thead th {\n",
       "        text-align: right;\n",
       "    }\n",
       "</style>\n",
       "<table border=\"1\" class=\"dataframe\">\n",
       "  <thead>\n",
       "    <tr style=\"text-align: right;\">\n",
       "      <th></th>\n",
       "      <th>gdpPercap_1952</th>\n",
       "      <th>gdpPercap_1957</th>\n",
       "      <th>gdpPercap_1962</th>\n",
       "      <th>gdpPercap_1967</th>\n",
       "      <th>gdpPercap_1972</th>\n",
       "      <th>gdpPercap_1977</th>\n",
       "      <th>gdpPercap_1982</th>\n",
       "      <th>gdpPercap_1987</th>\n",
       "      <th>gdpPercap_1992</th>\n",
       "      <th>gdpPercap_1997</th>\n",
       "      <th>gdpPercap_2002</th>\n",
       "      <th>gdpPercap_2007</th>\n",
       "    </tr>\n",
       "    <tr>\n",
       "      <th>country</th>\n",
       "      <th></th>\n",
       "      <th></th>\n",
       "      <th></th>\n",
       "      <th></th>\n",
       "      <th></th>\n",
       "      <th></th>\n",
       "      <th></th>\n",
       "      <th></th>\n",
       "      <th></th>\n",
       "      <th></th>\n",
       "      <th></th>\n",
       "      <th></th>\n",
       "    </tr>\n",
       "  </thead>\n",
       "  <tbody>\n",
       "    <tr>\n",
       "      <th>Australia</th>\n",
       "      <td>10039.59564</td>\n",
       "      <td>10949.64959</td>\n",
       "      <td>12217.22686</td>\n",
       "      <td>14526.12465</td>\n",
       "      <td>16788.62948</td>\n",
       "      <td>18334.19751</td>\n",
       "      <td>19477.00928</td>\n",
       "      <td>21888.88903</td>\n",
       "      <td>23424.76683</td>\n",
       "      <td>26997.93657</td>\n",
       "      <td>30687.75473</td>\n",
       "      <td>34435.36744</td>\n",
       "    </tr>\n",
       "    <tr>\n",
       "      <th>New Zealand</th>\n",
       "      <td>10556.57566</td>\n",
       "      <td>12247.39532</td>\n",
       "      <td>13175.67800</td>\n",
       "      <td>14463.91893</td>\n",
       "      <td>16046.03728</td>\n",
       "      <td>16233.71770</td>\n",
       "      <td>17632.41040</td>\n",
       "      <td>19007.19129</td>\n",
       "      <td>18363.32494</td>\n",
       "      <td>21050.41377</td>\n",
       "      <td>23189.80135</td>\n",
       "      <td>25185.00911</td>\n",
       "    </tr>\n",
       "  </tbody>\n",
       "</table>\n",
       "</div>"
      ],
      "text/plain": [
       "             gdpPercap_1952  gdpPercap_1957  gdpPercap_1962  gdpPercap_1967   \n",
       "country                                                                       \n",
       "Australia       10039.59564     10949.64959     12217.22686     14526.12465  \\\n",
       "New Zealand     10556.57566     12247.39532     13175.67800     14463.91893   \n",
       "\n",
       "             gdpPercap_1972  gdpPercap_1977  gdpPercap_1982  gdpPercap_1987   \n",
       "country                                                                       \n",
       "Australia       16788.62948     18334.19751     19477.00928     21888.88903  \\\n",
       "New Zealand     16046.03728     16233.71770     17632.41040     19007.19129   \n",
       "\n",
       "             gdpPercap_1992  gdpPercap_1997  gdpPercap_2002  gdpPercap_2007  \n",
       "country                                                                      \n",
       "Australia       23424.76683     26997.93657     30687.75473     34435.36744  \n",
       "New Zealand     18363.32494     21050.41377     23189.80135     25185.00911  "
      ]
     },
     "execution_count": 15,
     "metadata": {},
     "output_type": "execute_result"
    }
   ],
   "source": [
    "data"
   ]
  },
  {
   "cell_type": "code",
   "execution_count": 16,
   "id": "8eda4ab0-34d6-4d40-982e-6096239930f9",
   "metadata": {},
   "outputs": [
    {
     "data": {
      "text/plain": [
       "<Axes: xlabel='country'>"
      ]
     },
     "execution_count": 16,
     "metadata": {},
     "output_type": "execute_result"
    },
    {
     "data": {
      "image/png": "[encoded data removed]",
      "text/plain": [
       "<Figure size 640x480 with 1 Axes>"
      ]
     },
     "metadata": {},
     "output_type": "display_data"
    }
   ],
   "source": [
    "data.plot()"
   ]
  },
  {
   "cell_type": "code",
   "execution_count": 17,
   "id": "b93d5e88-ea1d-48ea-be76-fed94826cb1d",
   "metadata": {},
   "outputs": [
    {
     "data": {
      "text/html": [
       "<div>\n",
       "<style scoped>\n",
       "    .dataframe tbody tr th:only-of-type {\n",
       "        vertical-align: middle;\n",
       "    }\n",
       "\n",
       "    .dataframe tbody tr th {\n",
       "        vertical-align: top;\n",
       "    }\n",
       "\n",
       "    .dataframe thead th {\n",
       "        text-align: right;\n",
       "    }\n",
       "</style>\n",
       "<table border=\"1\" class=\"dataframe\">\n",
       "  <thead>\n",
       "    <tr style=\"text-align: right;\">\n",
       "      <th>country</th>\n",
       "      <th>Australia</th>\n",
       "      <th>New Zealand</th>\n",
       "    </tr>\n",
       "  </thead>\n",
       "  <tbody>\n",
       "    <tr>\n",
       "      <th>gdpPercap_1952</th>\n",
       "      <td>10039.59564</td>\n",
       "      <td>10556.57566</td>\n",
       "    </tr>\n",
       "    <tr>\n",
       "      <th>gdpPercap_1957</th>\n",
       "      <td>10949.64959</td>\n",
       "      <td>12247.39532</td>\n",
       "    </tr>\n",
       "    <tr>\n",
       "      <th>gdpPercap_1962</th>\n",
       "      <td>12217.22686</td>\n",
       "      <td>13175.67800</td>\n",
       "    </tr>\n",
       "    <tr>\n",
       "      <th>gdpPercap_1967</th>\n",
       "      <td>14526.12465</td>\n",
       "      <td>14463.91893</td>\n",
       "    </tr>\n",
       "    <tr>\n",
       "      <th>gdpPercap_1972</th>\n",
       "      <td>16788.62948</td>\n",
       "      <td>16046.03728</td>\n",
       "    </tr>\n",
       "    <tr>\n",
       "      <th>gdpPercap_1977</th>\n",
       "      <td>18334.19751</td>\n",
       "      <td>16233.71770</td>\n",
       "    </tr>\n",
       "    <tr>\n",
       "      <th>gdpPercap_1982</th>\n",
       "      <td>19477.00928</td>\n",
       "      <td>17632.41040</td>\n",
       "    </tr>\n",
       "    <tr>\n",
       "      <th>gdpPercap_1987</th>\n",
       "      <td>21888.88903</td>\n",
       "      <td>19007.19129</td>\n",
       "    </tr>\n",
       "    <tr>\n",
       "      <th>gdpPercap_1992</th>\n",
       "      <td>23424.76683</td>\n",
       "      <td>18363.32494</td>\n",
       "    </tr>\n",
       "    <tr>\n",
       "      <th>gdpPercap_1997</th>\n",
       "      <td>26997.93657</td>\n",
       "      <td>21050.41377</td>\n",
       "    </tr>\n",
       "    <tr>\n",
       "      <th>gdpPercap_2002</th>\n",
       "      <td>30687.75473</td>\n",
       "      <td>23189.80135</td>\n",
       "    </tr>\n",
       "    <tr>\n",
       "      <th>gdpPercap_2007</th>\n",
       "      <td>34435.36744</td>\n",
       "      <td>25185.00911</td>\n",
       "    </tr>\n",
       "  </tbody>\n",
       "</table>\n",
       "</div>"
      ],
      "text/plain": [
       "country           Australia  New Zealand\n",
       "gdpPercap_1952  10039.59564  10556.57566\n",
       "gdpPercap_1957  10949.64959  12247.39532\n",
       "gdpPercap_1962  12217.22686  13175.67800\n",
       "gdpPercap_1967  14526.12465  14463.91893\n",
       "gdpPercap_1972  16788.62948  16046.03728\n",
       "gdpPercap_1977  18334.19751  16233.71770\n",
       "gdpPercap_1982  19477.00928  17632.41040\n",
       "gdpPercap_1987  21888.88903  19007.19129\n",
       "gdpPercap_1992  23424.76683  18363.32494\n",
       "gdpPercap_1997  26997.93657  21050.41377\n",
       "gdpPercap_2002  30687.75473  23189.80135\n",
       "gdpPercap_2007  34435.36744  25185.00911"
      ]
     },
     "execution_count": 17,
     "metadata": {},
     "output_type": "execute_result"
    }
   ],
   "source": [
    "data.T"
   ]
  },
  {
   "cell_type": "code",
   "execution_count": null,
   "id": "71b7e749-b51f-4de3-a9c9-790b3e3f1ed9",
   "metadata": {},
   "outputs": [],
   "source": [
    "data.T."
   ]
  }
 ],
 "metadata": {
  "kernelspec": {
   "display_name": "Python 3 (ipykernel)",
   "language": "python",
   "name": "python3"
  },
  "language_info": {
   "codemirror_mode": {
    "name": "ipython",
    "version": 3
   },
   "file_extension": ".py",
   "mimetype": "text/x-python",
   "name": "python",
   "nbconvert_exporter": "python",
   "pygments_lexer": "ipython3",
   "version": "3.11.3"
  }
 },
 "nbformat": 4,
 "nbformat_minor": 5
}
