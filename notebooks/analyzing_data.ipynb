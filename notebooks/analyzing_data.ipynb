{
 "cells": [
  {
   "cell_type": "markdown",
   "id": "5c333c29-975d-4abe-ad21-4397103f0633",
   "metadata": {},
   "source": [
    "# Pandas: libray for data analysis"
   ]
  },
  {
   "cell_type": "code",
   "execution_count": 1,
   "id": "4c6293ab-4dec-433b-843a-4b6c855fd270",
   "metadata": {},
   "outputs": [],
   "source": [
    "import pandas"
   ]
  },
  {
   "cell_type": "code",
   "execution_count": 2,
   "id": "5fe13811-e4e0-4306-b0da-d2252b93863f",
   "metadata": {},
   "outputs": [],
   "source": [
    "odds = [1,3,7]"
   ]
  },
  {
   "cell_type": "code",
   "execution_count": null,
   "id": "629cc6ad-05b9-4541-9fba-89851473eaee",
   "metadata": {},
   "outputs": [],
   "source": [
    "odds.append()"
   ]
  },
  {
   "cell_type": "code",
   "execution_count": null,
   "id": "ceea6226-9e7c-4834-b2d0-e97eaf3ac578",
   "metadata": {},
   "outputs": [],
   "source": [
    "pandas."
   ]
  }
 ],
 "metadata": {
  "kernelspec": {
   "display_name": "Python 3 (ipykernel)",
   "language": "python",
   "name": "python3"
  },
  "language_info": {
   "codemirror_mode": {
    "name": "ipython",
    "version": 3
   },
   "file_extension": ".py",
   "mimetype": "text/x-python",
   "name": "python",
   "nbconvert_exporter": "python",
   "pygments_lexer": "ipython3",
   "version": "3.11.3"
  }
 },
 "nbformat": 4,
 "nbformat_minor": 5
}
