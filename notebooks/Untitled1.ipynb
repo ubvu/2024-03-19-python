{
 "cells": [
  {
   "cell_type": "markdown",
   "id": "cbf548c9",
   "metadata": {},
   "source": [
    "# Making Choices"
   ]
  },
  {
   "cell_type": "code",
   "execution_count": null,
   "id": "d06d5996",
   "metadata": {},
   "outputs": [],
   "source": [
    "num = 37\n",
    "\n",
    "if num > 100:\n",
    "    prinnt(greater)\n"
   ]
  }
 ],
 "metadata": {
  "kernelspec": {
   "display_name": "Python 3 (ipykernel)",
   "language": "python",
   "name": "python3"
  },
  "language_info": {
   "codemirror_mode": {
    "name": "ipython",
    "version": 3
   },
   "file_extension": ".py",
   "mimetype": "text/x-python",
   "name": "python",
   "nbconvert_exporter": "python",
   "pygments_lexer": "ipython3",
   "version": "3.8.5"
  }
 },
 "nbformat": 4,
 "nbformat_minor": 5
}
