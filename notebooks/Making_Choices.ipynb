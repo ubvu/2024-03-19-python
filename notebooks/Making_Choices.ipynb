{
 "cells": [
  {
   "cell_type": "markdown",
   "id": "65a49893",
   "metadata": {},
   "source": [
    "# Making Choices"
   ]
  },
  {
   "cell_type": "code",
   "execution_count": 2,
   "id": "981d7400",
   "metadata": {},
   "outputs": [
    {
     "name": "stdout",
     "output_type": "stream",
     "text": [
      "greater\n",
      "done\n"
     ]
    }
   ],
   "source": [
    "num = 37\n",
    "\n",
    "if num > 100:\n",
    "    print(\"greater\")\n",
    "else:\n",
    "    print(\"not so great\")\n",
    "print(\"done\")\n"
   ]
  },
  {
   "cell_type": "code",
   "execution_count": 3,
   "id": "968c6ad2",
   "metadata": {},
   "outputs": [
    {
     "name": "stdout",
     "output_type": "stream",
     "text": [
      "-3 is negative\n"
     ]
    }
   ],
   "source": [
    "num = -3\n",
    "\n",
    "if num > 0:\n",
    "    print(num, \"is positive\")\n",
    "elif num == 0:\n",
    "    print(num, \"is zero\")\n",
    "else:\n",
    "    print(num, \"is negative\")"
   ]
  },
  {
   "cell_type": "code",
   "execution_count": 3,
   "id": "c92aba7c",
   "metadata": {},
   "outputs": [
    {
     "name": "stdout",
     "output_type": "stream",
     "text": [
      "at least one part is true\n"
     ]
    }
   ],
   "source": [
    "num = -3\n",
    "if num > 0 or num < 100:\n",
    "    print(\"at least one part is true\")\n",
    "else:\n",
    "    print(\"none of the parts is true\")"
   ]
  },
  {
   "cell_type": "markdown",
   "id": "f07377e4",
   "metadata": {},
   "source": [
    "Write some conditions that print True if the variable a is within 10% of the variable b and False otherwise. Compare your implementation with your partner’s: do you get the same answer for all possible pairs of numbers?"
   ]
  },
  {
   "cell_type": "code",
   "execution_count": 18,
   "id": "2d828f7e",
   "metadata": {},
   "outputs": [
    {
     "name": "stdout",
     "output_type": "stream",
     "text": [
      "0.9\n",
      "0.9000000000000004\n",
      "not True\n"
     ]
    }
   ],
   "source": [
    "a = 9.9\n",
    "b = float(9)\n",
    "\n",
    "TenPer = 0.1 * b\n",
    "print(TenPer)\n",
    "\n",
    "print(abs(a-b))\n",
    "\n",
    "if abs(a-b) <= 0.1 * abs(b):\n",
    "    print(\"True\")\n",
    "else:\n",
    "    print(\"not True\")"
   ]
  },
  {
   "cell_type": "markdown",
   "id": "9d73dd82",
   "metadata": {},
   "source": [
    "\n",
    "\n",
    "1. Write a loop that counts the number of vowels in a character string.\n",
    "2. Test it on a few individual words and full sentences.\n",
    "3. Once you are done, compare your solution to your neighbor’s. Did you make the same decisions about how to handle the letter ‘y’ (which some people think is a vowel, and some do not)?\n",
    "\n",
    "\n"
   ]
  },
  {
   "cell_type": "code",
   "execution_count": 20,
   "id": "850ad3ce",
   "metadata": {},
   "outputs": [
    {
     "name": "stdout",
     "output_type": "stream",
     "text": [
      "true\n"
     ]
    }
   ],
   "source": [
    "vowels = \"aeiouAEIOU\"\n",
    "\n",
    "letter = \"a\"\n",
    "\n",
    "if letter in vowels:\n",
    "    print(\"true\")\n",
    "else:\n",
    "    print(\"false\")"
   ]
  },
  {
   "cell_type": "code",
   "execution_count": 22,
   "id": "ad4428e7",
   "metadata": {},
   "outputs": [
    {
     "name": "stdout",
     "output_type": "stream",
     "text": [
      "0\n",
      "1\n"
     ]
    }
   ],
   "source": [
    "counter = 0\n",
    "print(counter)\n",
    "counter = counter + 1\n",
    "print(counter)\n"
   ]
  },
  {
   "cell_type": "code",
   "execution_count": 30,
   "id": "68d77467",
   "metadata": {},
   "outputs": [
    {
     "name": "stdout",
     "output_type": "stream",
     "text": [
      "M is not a vowel\n",
      "Number of vowels so far... 0\n",
      "a is vowel\n",
      "Number of vowels so far... 1\n",
      "k is not a vowel\n",
      "Number of vowels so far... 1\n",
      "i is vowel\n",
      "Number of vowels so far... 2\n",
      "n is not a vowel\n",
      "Number of vowels so far... 2\n",
      "g is not a vowel\n",
      "Number of vowels so far... 2\n",
      "_ is not a vowel\n",
      "Number of vowels so far... 2\n",
      "C is not a vowel\n",
      "Number of vowels so far... 2\n",
      "h is not a vowel\n",
      "Number of vowels so far... 2\n",
      "o is vowel\n",
      "Number of vowels so far... 3\n",
      "i is vowel\n",
      "Number of vowels so far... 4\n",
      "c is not a vowel\n",
      "Number of vowels so far... 4\n",
      "e is vowel\n",
      "Number of vowels so far... 5\n",
      "s is not a vowel\n",
      "Number of vowels so far... 5\n",
      "total number of vowels in Making_Choices  is 5\n"
     ]
    }
   ],
   "source": [
    "vowels = \"aeiouAEIOU\"\n",
    "\n",
    "word = \"Making_Choices\"\n",
    "\n",
    "NumberVowels = 0\n",
    "\n",
    "for letter in word:\n",
    "\n",
    "    if letter in vowels:\n",
    "        print(letter, \"is vowel\")\n",
    "        NumberVowels = NumberVowels + 1\n",
    "    else:\n",
    "        print(letter, \"is not a vowel\")\n",
    "    print(\"Number of vowels so far...\", NumberVowels)\n",
    "    \n",
    "print(\"total number of vowels in\", word, \" is\", NumberVowels)"
   ]
  },
  {
   "cell_type": "markdown",
   "id": "f2f4288f",
   "metadata": {},
   "source": [
    "Within the countries of Africa how "
   ]
  },
  {
   "cell_type": "code",
   "execution_count": null,
   "id": "825a8a21",
   "metadata": {},
   "outputs": [],
   "source": []
  },
  {
   "cell_type": "code",
   "execution_count": 39,
   "id": "a46cd266",
   "metadata": {},
   "outputs": [
    {
     "name": "stdout",
     "output_type": "stream",
     "text": [
      "7\n",
      "6\n",
      "5\n",
      "8\n",
      "12\n",
      "7\n",
      "8\n",
      "24\n",
      "4\n",
      "7\n",
      "15\n",
      "10\n",
      "13\n",
      "8\n",
      "5\n",
      "17\n",
      "7\n",
      "8\n",
      "5\n",
      "6\n",
      "5\n",
      "6\n",
      "13\n",
      "5\n",
      "7\n",
      "7\n",
      "5\n",
      "10\n",
      "6\n",
      "4\n",
      "10\n",
      "9\n",
      "7\n",
      "10\n",
      "7\n",
      "5\n",
      "7\n",
      "7\n",
      "6\n",
      "21\n",
      "7\n",
      "12\n",
      "7\n",
      "12\n",
      "5\n",
      "9\n",
      "8\n",
      "4\n",
      "7\n",
      "6\n",
      "6\n",
      "8\n",
      "['Algeria', 'Angola', 'Benin', 'Botswana', 'Burkina Faso', 'Burundi', 'Cameroon', 'Central African Republic', 'Chad', 'Comoros', 'Congo Dem. Rep.', 'Congo Rep.', \"Cote d'Ivoire\", 'Djibouti', 'Egypt', 'Equatorial Guinea', 'Eritrea', 'Ethiopia', 'Gabon', 'Gambia', 'Ghana', 'Guinea', 'Guinea-Bissau', 'Kenya', 'Lesotho', 'Liberia', 'Libya', 'Madagascar', 'Malawi', 'Mali', 'Mauritania', 'Mauritius', 'Morocco', 'Mozambique', 'Namibia', 'Niger', 'Nigeria', 'Reunion', 'Rwanda', 'Sao Tome and Principe', 'Senegal', 'Sierra Leone', 'Somalia', 'South Africa', 'Sudan', 'Swaziland', 'Tanzania', 'Togo', 'Tunisia', 'Uganda', 'Zambia', 'Zimbabwe']\n",
      "7\n"
     ]
    }
   ],
   "source": [
    "import pandas as pd\n",
    "\n",
    "data = pd.read_csv(\"../data/gapminder_gdp_africa.csv\")\n",
    "\n",
    "for country in data[\"country\"]:\n",
    "    print(country)\n",
    "\n",
    "\n",
    "\n",
    "print(len(lands[0]))\n",
    "\n"
   ]
  },
  {
   "cell_type": "code",
   "execution_count": 45,
   "id": "c4a1b33e",
   "metadata": {},
   "outputs": [
    {
     "name": "stdout",
     "output_type": "stream",
     "text": [
      "Algeria\n",
      "Angola\n",
      "Benin\n",
      "Botswana\n",
      "Burkina Faso\n",
      "Burundi\n",
      "Cameroon\n",
      "Central African Republic\n",
      "Chad\n",
      "Comoros\n",
      "Congo Dem. Rep.\n",
      "Congo Rep.\n",
      "Cote d'Ivoire\n",
      "Djibouti\n",
      "Egypt\n",
      "Equatorial Guinea\n",
      "Eritrea\n",
      "Ethiopia\n",
      "Gabon\n",
      "Gambia\n",
      "Ghana\n",
      "Guinea\n",
      "Guinea-Bissau\n",
      "Kenya\n",
      "Lesotho\n",
      "Liberia\n",
      "Libya\n",
      "Madagascar\n",
      "Malawi\n",
      "Mali\n",
      "Mauritania\n",
      "Mauritius\n",
      "Morocco\n",
      "Mozambique\n",
      "Namibia\n",
      "Niger\n",
      "Nigeria\n",
      "Reunion\n",
      "Rwanda\n",
      "Sao Tome and Principe\n",
      "Senegal\n",
      "Sierra Leone\n",
      "Somalia\n",
      "South Africa\n",
      "Sudan\n",
      "Swaziland\n",
      "Tanzania\n",
      "Togo\n",
      "Tunisia\n",
      "Uganda\n",
      "Zambia\n",
      "Zimbabwe\n",
      "7\n"
     ]
    }
   ],
   "source": [
    "## import pandas.\n",
    "import pandas as pd\n",
    "\n",
    "## read the Africa file and store as data.\n",
    "data = pd.read_csv(\"../data/gapminder_gdp_africa.csv\")\n",
    "\n",
    "## loop through the collumn \"country\" and print the countries.\n",
    "for country in data[\"country\"]:\n",
    "    print(country)\n",
    "\n",
    "## function len()\n",
    "print(len(data[\"country\"][0]))\n",
    "\n"
   ]
  },
  {
   "cell_type": "code",
   "execution_count": null,
   "id": "e0b781b3",
   "metadata": {},
   "outputs": [],
   "source": [
    "## iterate or loop through the list of countries and pick out the \n",
    "## ones containinng more then 6 letters and stick them in a new list\n",
    "## And finally print this list.\n",
    "longNames = []\n",
    "\n",
    "for cou\n"
   ]
  }
 ],
 "metadata": {
  "kernelspec": {
   "display_name": "Python 3 (ipykernel)",
   "language": "python",
   "name": "python3"
  },
  "language_info": {
   "codemirror_mode": {
    "name": "ipython",
    "version": 3
   },
   "file_extension": ".py",
   "mimetype": "text/x-python",
   "name": "python",
   "nbconvert_exporter": "python",
   "pygments_lexer": "ipython3",
   "version": "3.8.5"
  }
 },
 "nbformat": 4,
 "nbformat_minor": 5
}
