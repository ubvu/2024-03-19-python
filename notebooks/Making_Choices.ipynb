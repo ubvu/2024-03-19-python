{
 "cells": [
  {
   "cell_type": "markdown",
   "id": "65a49893",
   "metadata": {},
   "source": [
    "# Making Choices"
   ]
  },
  {
   "cell_type": "code",
   "execution_count": 2,
   "id": "981d7400",
   "metadata": {},
   "outputs": [
    {
     "name": "stdout",
     "output_type": "stream",
     "text": [
      "greater\n",
      "done\n"
     ]
    }
   ],
   "source": [
    "num = 37\n",
    "\n",
    "if num > 100:\n",
    "    print(\"greater\")\n",
    "else:\n",
    "    print(\"not so great\")\n",
    "print(\"done\")\n"
   ]
  },
  {
   "cell_type": "code",
   "execution_count": 3,
   "id": "968c6ad2",
   "metadata": {},
   "outputs": [
    {
     "name": "stdout",
     "output_type": "stream",
     "text": [
      "-3 is negative\n"
     ]
    }
   ],
   "source": [
    "num = -3\n",
    "\n",
    "if num > 0:\n",
    "    print(num, \"is positive\")\n",
    "elif num == 0:\n",
    "    print(num, \"is zero\")\n",
    "else:\n",
    "    print(num, \"is negative\")"
   ]
  },
  {
   "cell_type": "code",
   "execution_count": 3,
   "id": "c92aba7c",
   "metadata": {},
   "outputs": [
    {
     "name": "stdout",
     "output_type": "stream",
     "text": [
      "at least one part is true\n"
     ]
    }
   ],
   "source": [
    "num = -3\n",
    "if num > 0 or num < 100:\n",
    "    print(\"at least one part is true\")\n",
    "else:\n",
    "    print(\"none of the parts is true\")"
   ]
  },
  {
   "cell_type": "markdown",
   "id": "0717dbe7",
   "metadata": {},
   "source": [
    "Write some conditions that print True if the variable a is within 10% of the variable b and False otherwise. Compare your implementation with your partner’s: do you get the same answer for all possible pairs of numbers?"
   ]
  },
  {
   "cell_type": "code",
   "execution_count": 18,
   "id": "c91627fa",
   "metadata": {},
   "outputs": [
    {
     "name": "stdout",
     "output_type": "stream",
     "text": [
      "0.9\n",
      "0.9000000000000004\n",
      "not True\n"
     ]
    }
   ],
   "source": [
    "a = 9.9\n",
    "b = float(9)\n",
    "\n",
    "TenPer = 0.1 * b\n",
    "print(TenPer)\n",
    "\n",
    "print(abs(a-b))\n",
    "\n",
    "if abs(a-b) <= 0.1 * abs(b):\n",
    "    print(\"True\")\n",
    "else:\n",
    "    print(\"not True\")"
   ]
  },
  {
   "cell_type": "markdown",
   "id": "d0ce3ca5",
   "metadata": {},
   "source": [
    "\n",
    "\n",
    "1. Write a loop that counts the number of vowels in a character string.\n",
    "2. Test it on a few individual words and full sentences.\n",
    "3. Once you are done, compare your solution to your neighbor’s. Did you make the same decisions about how to handle the letter ‘y’ (which some people think is a vowel, and some do not)?\n",
    "\n",
    "\n"
   ]
  },
  {
   "cell_type": "code",
   "execution_count": 20,
   "id": "93c4247d",
   "metadata": {},
   "outputs": [
    {
     "name": "stdout",
     "output_type": "stream",
     "text": [
      "true\n"
     ]
    }
   ],
   "source": [
    "vowels = \"aeiouAEIOU\"\n",
    "\n",
    "letter = \"a\"\n",
    "\n",
    "if letter in vowels:\n",
    "    print(\"true\")\n",
    "else:\n",
    "    print(\"false\")"
   ]
  },
  {
   "cell_type": "code",
   "execution_count": 22,
   "id": "95e6dc2f",
   "metadata": {},
   "outputs": [
    {
     "name": "stdout",
     "output_type": "stream",
     "text": [
      "0\n",
      "1\n"
     ]
    }
   ],
   "source": [
    "counter = 0\n",
    "print(counter)\n",
    "counter = counter + 1\n",
    "print(counter)\n"
   ]
  },
  {
   "cell_type": "code",
   "execution_count": 26,
   "id": "15e32f63",
   "metadata": {},
   "outputs": [
    {
     "name": "stdout",
     "output_type": "stream",
     "text": [
      "M is not a vowel\n",
      "Number of vowels so far... 0\n",
      "a is vowel\n",
      "Number of vowels so far... 1\n",
      "r is not a vowel\n",
      "Number of vowels so far... 1\n",
      "y is not a vowel\n",
      "Number of vowels so far... 1\n",
      "  is not a vowel\n",
      "Number of vowels so far... 1\n",
      "h is not a vowel\n",
      "Number of vowels so far... 1\n",
      "a is vowel\n",
      "Number of vowels so far... 2\n",
      "d is not a vowel\n",
      "Number of vowels so far... 2\n",
      "  is not a vowel\n",
      "Number of vowels so far... 2\n",
      "a is vowel\n",
      "Number of vowels so far... 3\n",
      "  is not a vowel\n",
      "Number of vowels so far... 3\n",
      "l is not a vowel\n",
      "Number of vowels so far... 3\n",
      "i is vowel\n",
      "Number of vowels so far... 4\n",
      "t is not a vowel\n",
      "Number of vowels so far... 4\n",
      "t is not a vowel\n",
      "Number of vowels so far... 4\n",
      "l is not a vowel\n",
      "Number of vowels so far... 4\n",
      "e is vowel\n",
      "Number of vowels so far... 5\n",
      "  is not a vowel\n",
      "Number of vowels so far... 5\n",
      "l is not a vowel\n",
      "Number of vowels so far... 5\n",
      "a is vowel\n",
      "Number of vowels so far... 6\n",
      "m is not a vowel\n",
      "Number of vowels so far... 6\n",
      "b is not a vowel\n",
      "Number of vowels so far... 6\n",
      ". is not a vowel\n",
      "Number of vowels so far... 6\n",
      "total number of vowels: 6\n"
     ]
    }
   ],
   "source": [
    "vowels = \"aeiouAEIOU\"\n",
    "\n",
    "word = \"Mary had a little lamb.\"\n",
    "\n",
    "NumberVowels = 0\n",
    "\n",
    "for letter in word:\n",
    "\n",
    "    if letter in vowels:\n",
    "        print(letter, \"is vowel\")\n",
    "        NumberVowels = NumberVowels + 1\n",
    "    else:\n",
    "        print(letter, \"is not a vowel\")\n",
    "    print(\"Number of vowels so far...\", NumberVowels)\n",
    "    \n",
    "print(\"total number of vowels:\", NumberVowels)"
   ]
  }
 ],
 "metadata": {
  "kernelspec": {
   "display_name": "Python 3 (ipykernel)",
   "language": "python",
   "name": "python3"
  },
  "language_info": {
   "codemirror_mode": {
    "name": "ipython",
    "version": 3
   },
   "file_extension": ".py",
   "mimetype": "text/x-python",
   "name": "python",
   "nbconvert_exporter": "python",
   "pygments_lexer": "ipython3",
   "version": "3.8.5"
  }
 },
 "nbformat": 4,
 "nbformat_minor": 5
}
